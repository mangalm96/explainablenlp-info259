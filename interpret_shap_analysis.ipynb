{
  "nbformat": 4,
  "nbformat_minor": 0,
  "metadata": {
    "colab": {
      "name": "interpret_shap_analysis.ipynb",
      "provenance": [],
      "collapsed_sections": [],
      "include_colab_link": true
    },
    "kernelspec": {
      "name": "python3",
      "display_name": "Python 3"
    },
    "language_info": {
      "name": "python"
    }
  },
  "cells": [
    {
      "cell_type": "markdown",
      "metadata": {
        "id": "view-in-github",
        "colab_type": "text"
      },
      "source": [
        "<a href=\"https://colab.research.google.com/github/mangalm96/explainablenlp-info259/blob/main/interpret_shap_analysis.ipynb\" target=\"_parent\"><img src=\"https://colab.research.google.com/assets/colab-badge.svg\" alt=\"Open In Colab\"/></a>"
      ]
    },
    {
      "cell_type": "code",
      "execution_count": 4,
      "metadata": {
        "colab": {
          "base_uri": "https://localhost:8080/"
        },
        "id": "B4A7fvJNO8dj",
        "outputId": "bb7c26b7-ddd2-4a5a-a78c-e53edbbf0e61"
      },
      "outputs": [
        {
          "output_type": "stream",
          "name": "stdout",
          "text": [
            "Mounted at /content/gdrive\n"
          ]
        }
      ],
      "source": [
        "from google.colab import drive\n",
        "drive.mount('/content/gdrive')"
      ]
    },
    {
      "cell_type": "code",
      "source": [
        "import json\n",
        "import pandas as pd\n",
        "import numpy as np\n",
        "import seaborn as sns"
      ],
      "metadata": {
        "id": "Qt0e3Q5BROc7"
      },
      "execution_count": 42,
      "outputs": []
    },
    {
      "cell_type": "code",
      "source": [
        ""
      ],
      "metadata": {
        "id": "hnfrum6jANYg"
      },
      "execution_count": null,
      "outputs": []
    },
    {
      "cell_type": "markdown",
      "source": [
        "## make function "
      ],
      "metadata": {
        "id": "a24GKlzbKBlU"
      }
    },
    {
      "cell_type": "code",
      "source": [
        "# open file and import to df\n",
        "def generate_shap_df(filepath):\n",
        "  with open(filepath) as f:\n",
        "    lines = f.readlines()\n",
        "  shap_df  = pd.DataFrame()\n",
        "  for line in lines:\n",
        "    if line != '':\n",
        "      line_data = json.loads(line)\n",
        "      line_data_df = pd.DataFrame.from_dict(line_data[\"tokens\"])\n",
        "      if len(shap_df) == 0:\n",
        "        shap_df = line_data_df\n",
        "      else:\n",
        "        shap_df = shap_df.append(line_data_df)\n",
        "\n",
        "  return shap_df\n"
      ],
      "metadata": {
        "id": "Nc9x48pkKC3_"
      },
      "execution_count": 6,
      "outputs": []
    },
    {
      "cell_type": "code",
      "source": [
        "# CI_ESRX_target = \"/content/gdrive/MyDrive/NLP Stance Detection/tWT_WT/saves/twtwt_CVS_AET_notarget/model_output_shap\"\n",
        "# CI_ESRX_notarget = \"/content/gdrive/MyDrive/NLP Stance Detection/Code_Kaushal/saves/wtwt_CI_ESRX_notarget/model_output_shap\"\n",
        "\n",
        "\n",
        "def get_scores(output_path):\n",
        "\n",
        "  data_import = generate_shap_df(output_path)\n",
        "\n",
        "  # convert to string (bcz presently showing up as a list)\n",
        "  data_import['token'] = data_import['token'].astype(str)\n",
        "\n",
        "  # remove rows from df with the selected tokens \n",
        "  removed_tokens = [\"['Cig@@']\"\t, \"['na']\"  ,\"['Ex@@']\",\t\t\"['pres@@']\",\t\t\"['s_@@']\",\t\t\"['Scri@@']\",\t\"['pts']\"]\n",
        "  print(\"before filtering:\",len(data_import))\n",
        "  data_import_filt = data_import[~(data_import['token'] .isin(removed_tokens))]\n",
        "  print(\"after filtering:\",len(data_import_filt))\n",
        "\n",
        "  # rename cols\n",
        "  data_import_filt = data_import_filt.rename(columns = {\"0\":\"comment\",\"1\":\"unrelated\",\"2\":\"support\",\"3\":\"refute\"})\n",
        "\n",
        "  # group by token and sum for each column\n",
        "  groupby_df = data_import_filt.groupby('token').agg('mean')\n",
        "\n",
        "  return data_import_filt,groupby_df\n"
      ],
      "metadata": {
        "id": "V60oLtxGKnnW"
      },
      "execution_count": 7,
      "outputs": []
    },
    {
      "cell_type": "code",
      "source": [
        ""
      ],
      "metadata": {
        "id": "uM2k7jRPNiJH"
      },
      "execution_count": 12,
      "outputs": []
    },
    {
      "cell_type": "code",
      "source": [
        ""
      ],
      "metadata": {
        "id": "-LHzkF2UrP7S"
      },
      "execution_count": null,
      "outputs": []
    },
    {
      "cell_type": "markdown",
      "source": [
        "## twt-wt CI ESRX target"
      ],
      "metadata": {
        "id": "V7dx09HYrL8R"
      }
    },
    {
      "cell_type": "code",
      "source": [
        "output_path = \"/content/gdrive/MyDrive/NLP Stance Detection/tWT_WT/saves/twtwt_CI_ESRX_target/model_output_shap\"\n",
        "ungrouped_df, groupby_df= get_scores(output_path)"
      ],
      "metadata": {
        "colab": {
          "base_uri": "https://localhost:8080/"
        },
        "id": "ChRnCrtOrddh",
        "outputId": "a1732cb9-25db-42a5-a726-dac7be357ae4"
      },
      "execution_count": 8,
      "outputs": [
        {
          "output_type": "stream",
          "name": "stdout",
          "text": [
            "before filtering: 156512\n",
            "after filtering: 156511\n"
          ]
        }
      ]
    },
    {
      "cell_type": "code",
      "source": [
        "ungrouped_df[:30]"
      ],
      "metadata": {
        "colab": {
          "base_uri": "https://localhost:8080/",
          "height": 990
        },
        "id": "projuQLPTkhp",
        "outputId": "7ea2360c-7921-4dd6-b55f-c05a785d1b05"
      },
      "execution_count": 6,
      "outputs": [
        {
          "output_type": "execute_result",
          "data": {
            "text/plain": [
              "           token   comment  unrelated   support    refute\n",
              "0      ['[CLS]']  0.009991  -0.132111  0.132035  0.123675\n",
              "1      ['[UNK]'] -0.022080  -0.053643  0.080389 -0.030907\n",
              "2          ['s']  0.108354  -0.046067  0.058843 -0.051412\n",
              "3   ['purchase'] -0.243573   0.190837  0.230178 -0.116394\n",
              "4         ['of'] -0.227556   0.013288  0.500724  0.100294\n",
              "5    ['Express'] -1.051011   1.933852 -2.248916 -0.290772\n",
              "6      ['[UNK]'] -0.152465   0.308127  0.040892  0.032829\n",
              "7         ['is'] -0.011388  -0.167028  0.388974 -0.005512\n",
              "8         ['on'] -0.115168  -0.017790  0.198406 -0.031187\n",
              "9      ['track'] -0.079489  -0.084676  0.348316 -0.041566\n",
              "10        ['to'] -0.089591  -0.094779  0.263883  0.068270\n",
              "11     ['close'] -0.219738  -0.665122  0.720291  0.142867\n",
              "12    ['before'] -0.017942   0.415314 -0.120431 -0.039089\n",
              "13       ['the'] -0.010951  -0.088598  0.049359  0.290046\n",
              "14       ['end'] -0.001587   0.327494 -0.181771 -0.230846\n",
              "15        ['of'] -0.184124  -0.069130  0.139505 -0.084863\n",
              "16       ['the'] -0.036311  -0.157042  0.068959  0.091670\n",
              "17      ['year'] -0.116498   0.175887  0.030947 -0.097910\n",
              "18     ['[SEP]'] -0.045190  -0.375897  0.545582 -0.266539\n",
              "19     ['[UNK]'] -0.259221   0.062292  0.208710 -0.172543\n",
              "20      ['buys']  0.025255  -0.009836 -0.028771  0.090874\n",
              "21     ['[UNK]'] -0.380072  -0.080466 -0.079710 -0.152316\n",
              "22     ['[SEP]']  0.145652   0.101458  0.269861 -0.168149\n",
              "0      ['[CLS]'] -0.159630  -0.063058 -0.017255 -0.037805\n",
              "1      ['[UNK]']  0.088296  -0.020178  0.128007  0.087151\n",
              "2         ['of']  0.020549  -0.252287  0.225313  0.092086\n",
              "3      ['[UNK]']  0.072421  -0.300304  0.317608  0.028471\n",
              "4     ['Health']  0.691677  -1.026056  0.610359  0.106008\n",
              "5      ['[UNK]'] -0.008038  -0.197779  0.174089 -0.042998\n",
              "6      ['[UNK]'] -0.090319   0.031633  0.105264  0.069364"
            ],
            "text/html": [
              "\n",
              "  <div id=\"df-2f5b589a-75c7-4b4c-bf36-042f9346bdd9\">\n",
              "    <div class=\"colab-df-container\">\n",
              "      <div>\n",
              "<style scoped>\n",
              "    .dataframe tbody tr th:only-of-type {\n",
              "        vertical-align: middle;\n",
              "    }\n",
              "\n",
              "    .dataframe tbody tr th {\n",
              "        vertical-align: top;\n",
              "    }\n",
              "\n",
              "    .dataframe thead th {\n",
              "        text-align: right;\n",
              "    }\n",
              "</style>\n",
              "<table border=\"1\" class=\"dataframe\">\n",
              "  <thead>\n",
              "    <tr style=\"text-align: right;\">\n",
              "      <th></th>\n",
              "      <th>token</th>\n",
              "      <th>comment</th>\n",
              "      <th>unrelated</th>\n",
              "      <th>support</th>\n",
              "      <th>refute</th>\n",
              "    </tr>\n",
              "  </thead>\n",
              "  <tbody>\n",
              "    <tr>\n",
              "      <th>0</th>\n",
              "      <td>['[CLS]']</td>\n",
              "      <td>0.009991</td>\n",
              "      <td>-0.132111</td>\n",
              "      <td>0.132035</td>\n",
              "      <td>0.123675</td>\n",
              "    </tr>\n",
              "    <tr>\n",
              "      <th>1</th>\n",
              "      <td>['[UNK]']</td>\n",
              "      <td>-0.022080</td>\n",
              "      <td>-0.053643</td>\n",
              "      <td>0.080389</td>\n",
              "      <td>-0.030907</td>\n",
              "    </tr>\n",
              "    <tr>\n",
              "      <th>2</th>\n",
              "      <td>['s']</td>\n",
              "      <td>0.108354</td>\n",
              "      <td>-0.046067</td>\n",
              "      <td>0.058843</td>\n",
              "      <td>-0.051412</td>\n",
              "    </tr>\n",
              "    <tr>\n",
              "      <th>3</th>\n",
              "      <td>['purchase']</td>\n",
              "      <td>-0.243573</td>\n",
              "      <td>0.190837</td>\n",
              "      <td>0.230178</td>\n",
              "      <td>-0.116394</td>\n",
              "    </tr>\n",
              "    <tr>\n",
              "      <th>4</th>\n",
              "      <td>['of']</td>\n",
              "      <td>-0.227556</td>\n",
              "      <td>0.013288</td>\n",
              "      <td>0.500724</td>\n",
              "      <td>0.100294</td>\n",
              "    </tr>\n",
              "    <tr>\n",
              "      <th>5</th>\n",
              "      <td>['Express']</td>\n",
              "      <td>-1.051011</td>\n",
              "      <td>1.933852</td>\n",
              "      <td>-2.248916</td>\n",
              "      <td>-0.290772</td>\n",
              "    </tr>\n",
              "    <tr>\n",
              "      <th>6</th>\n",
              "      <td>['[UNK]']</td>\n",
              "      <td>-0.152465</td>\n",
              "      <td>0.308127</td>\n",
              "      <td>0.040892</td>\n",
              "      <td>0.032829</td>\n",
              "    </tr>\n",
              "    <tr>\n",
              "      <th>7</th>\n",
              "      <td>['is']</td>\n",
              "      <td>-0.011388</td>\n",
              "      <td>-0.167028</td>\n",
              "      <td>0.388974</td>\n",
              "      <td>-0.005512</td>\n",
              "    </tr>\n",
              "    <tr>\n",
              "      <th>8</th>\n",
              "      <td>['on']</td>\n",
              "      <td>-0.115168</td>\n",
              "      <td>-0.017790</td>\n",
              "      <td>0.198406</td>\n",
              "      <td>-0.031187</td>\n",
              "    </tr>\n",
              "    <tr>\n",
              "      <th>9</th>\n",
              "      <td>['track']</td>\n",
              "      <td>-0.079489</td>\n",
              "      <td>-0.084676</td>\n",
              "      <td>0.348316</td>\n",
              "      <td>-0.041566</td>\n",
              "    </tr>\n",
              "    <tr>\n",
              "      <th>10</th>\n",
              "      <td>['to']</td>\n",
              "      <td>-0.089591</td>\n",
              "      <td>-0.094779</td>\n",
              "      <td>0.263883</td>\n",
              "      <td>0.068270</td>\n",
              "    </tr>\n",
              "    <tr>\n",
              "      <th>11</th>\n",
              "      <td>['close']</td>\n",
              "      <td>-0.219738</td>\n",
              "      <td>-0.665122</td>\n",
              "      <td>0.720291</td>\n",
              "      <td>0.142867</td>\n",
              "    </tr>\n",
              "    <tr>\n",
              "      <th>12</th>\n",
              "      <td>['before']</td>\n",
              "      <td>-0.017942</td>\n",
              "      <td>0.415314</td>\n",
              "      <td>-0.120431</td>\n",
              "      <td>-0.039089</td>\n",
              "    </tr>\n",
              "    <tr>\n",
              "      <th>13</th>\n",
              "      <td>['the']</td>\n",
              "      <td>-0.010951</td>\n",
              "      <td>-0.088598</td>\n",
              "      <td>0.049359</td>\n",
              "      <td>0.290046</td>\n",
              "    </tr>\n",
              "    <tr>\n",
              "      <th>14</th>\n",
              "      <td>['end']</td>\n",
              "      <td>-0.001587</td>\n",
              "      <td>0.327494</td>\n",
              "      <td>-0.181771</td>\n",
              "      <td>-0.230846</td>\n",
              "    </tr>\n",
              "    <tr>\n",
              "      <th>15</th>\n",
              "      <td>['of']</td>\n",
              "      <td>-0.184124</td>\n",
              "      <td>-0.069130</td>\n",
              "      <td>0.139505</td>\n",
              "      <td>-0.084863</td>\n",
              "    </tr>\n",
              "    <tr>\n",
              "      <th>16</th>\n",
              "      <td>['the']</td>\n",
              "      <td>-0.036311</td>\n",
              "      <td>-0.157042</td>\n",
              "      <td>0.068959</td>\n",
              "      <td>0.091670</td>\n",
              "    </tr>\n",
              "    <tr>\n",
              "      <th>17</th>\n",
              "      <td>['year']</td>\n",
              "      <td>-0.116498</td>\n",
              "      <td>0.175887</td>\n",
              "      <td>0.030947</td>\n",
              "      <td>-0.097910</td>\n",
              "    </tr>\n",
              "    <tr>\n",
              "      <th>18</th>\n",
              "      <td>['[SEP]']</td>\n",
              "      <td>-0.045190</td>\n",
              "      <td>-0.375897</td>\n",
              "      <td>0.545582</td>\n",
              "      <td>-0.266539</td>\n",
              "    </tr>\n",
              "    <tr>\n",
              "      <th>19</th>\n",
              "      <td>['[UNK]']</td>\n",
              "      <td>-0.259221</td>\n",
              "      <td>0.062292</td>\n",
              "      <td>0.208710</td>\n",
              "      <td>-0.172543</td>\n",
              "    </tr>\n",
              "    <tr>\n",
              "      <th>20</th>\n",
              "      <td>['buys']</td>\n",
              "      <td>0.025255</td>\n",
              "      <td>-0.009836</td>\n",
              "      <td>-0.028771</td>\n",
              "      <td>0.090874</td>\n",
              "    </tr>\n",
              "    <tr>\n",
              "      <th>21</th>\n",
              "      <td>['[UNK]']</td>\n",
              "      <td>-0.380072</td>\n",
              "      <td>-0.080466</td>\n",
              "      <td>-0.079710</td>\n",
              "      <td>-0.152316</td>\n",
              "    </tr>\n",
              "    <tr>\n",
              "      <th>22</th>\n",
              "      <td>['[SEP]']</td>\n",
              "      <td>0.145652</td>\n",
              "      <td>0.101458</td>\n",
              "      <td>0.269861</td>\n",
              "      <td>-0.168149</td>\n",
              "    </tr>\n",
              "    <tr>\n",
              "      <th>0</th>\n",
              "      <td>['[CLS]']</td>\n",
              "      <td>-0.159630</td>\n",
              "      <td>-0.063058</td>\n",
              "      <td>-0.017255</td>\n",
              "      <td>-0.037805</td>\n",
              "    </tr>\n",
              "    <tr>\n",
              "      <th>1</th>\n",
              "      <td>['[UNK]']</td>\n",
              "      <td>0.088296</td>\n",
              "      <td>-0.020178</td>\n",
              "      <td>0.128007</td>\n",
              "      <td>0.087151</td>\n",
              "    </tr>\n",
              "    <tr>\n",
              "      <th>2</th>\n",
              "      <td>['of']</td>\n",
              "      <td>0.020549</td>\n",
              "      <td>-0.252287</td>\n",
              "      <td>0.225313</td>\n",
              "      <td>0.092086</td>\n",
              "    </tr>\n",
              "    <tr>\n",
              "      <th>3</th>\n",
              "      <td>['[UNK]']</td>\n",
              "      <td>0.072421</td>\n",
              "      <td>-0.300304</td>\n",
              "      <td>0.317608</td>\n",
              "      <td>0.028471</td>\n",
              "    </tr>\n",
              "    <tr>\n",
              "      <th>4</th>\n",
              "      <td>['Health']</td>\n",
              "      <td>0.691677</td>\n",
              "      <td>-1.026056</td>\n",
              "      <td>0.610359</td>\n",
              "      <td>0.106008</td>\n",
              "    </tr>\n",
              "    <tr>\n",
              "      <th>5</th>\n",
              "      <td>['[UNK]']</td>\n",
              "      <td>-0.008038</td>\n",
              "      <td>-0.197779</td>\n",
              "      <td>0.174089</td>\n",
              "      <td>-0.042998</td>\n",
              "    </tr>\n",
              "    <tr>\n",
              "      <th>6</th>\n",
              "      <td>['[UNK]']</td>\n",
              "      <td>-0.090319</td>\n",
              "      <td>0.031633</td>\n",
              "      <td>0.105264</td>\n",
              "      <td>0.069364</td>\n",
              "    </tr>\n",
              "  </tbody>\n",
              "</table>\n",
              "</div>\n",
              "      <button class=\"colab-df-convert\" onclick=\"convertToInteractive('df-2f5b589a-75c7-4b4c-bf36-042f9346bdd9')\"\n",
              "              title=\"Convert this dataframe to an interactive table.\"\n",
              "              style=\"display:none;\">\n",
              "        \n",
              "  <svg xmlns=\"http://www.w3.org/2000/svg\" height=\"24px\"viewBox=\"0 0 24 24\"\n",
              "       width=\"24px\">\n",
              "    <path d=\"M0 0h24v24H0V0z\" fill=\"none\"/>\n",
              "    <path d=\"M18.56 5.44l.94 2.06.94-2.06 2.06-.94-2.06-.94-.94-2.06-.94 2.06-2.06.94zm-11 1L8.5 8.5l.94-2.06 2.06-.94-2.06-.94L8.5 2.5l-.94 2.06-2.06.94zm10 10l.94 2.06.94-2.06 2.06-.94-2.06-.94-.94-2.06-.94 2.06-2.06.94z\"/><path d=\"M17.41 7.96l-1.37-1.37c-.4-.4-.92-.59-1.43-.59-.52 0-1.04.2-1.43.59L10.3 9.45l-7.72 7.72c-.78.78-.78 2.05 0 2.83L4 21.41c.39.39.9.59 1.41.59.51 0 1.02-.2 1.41-.59l7.78-7.78 2.81-2.81c.8-.78.8-2.07 0-2.86zM5.41 20L4 18.59l7.72-7.72 1.47 1.35L5.41 20z\"/>\n",
              "  </svg>\n",
              "      </button>\n",
              "      \n",
              "  <style>\n",
              "    .colab-df-container {\n",
              "      display:flex;\n",
              "      flex-wrap:wrap;\n",
              "      gap: 12px;\n",
              "    }\n",
              "\n",
              "    .colab-df-convert {\n",
              "      background-color: #E8F0FE;\n",
              "      border: none;\n",
              "      border-radius: 50%;\n",
              "      cursor: pointer;\n",
              "      display: none;\n",
              "      fill: #1967D2;\n",
              "      height: 32px;\n",
              "      padding: 0 0 0 0;\n",
              "      width: 32px;\n",
              "    }\n",
              "\n",
              "    .colab-df-convert:hover {\n",
              "      background-color: #E2EBFA;\n",
              "      box-shadow: 0px 1px 2px rgba(60, 64, 67, 0.3), 0px 1px 3px 1px rgba(60, 64, 67, 0.15);\n",
              "      fill: #174EA6;\n",
              "    }\n",
              "\n",
              "    [theme=dark] .colab-df-convert {\n",
              "      background-color: #3B4455;\n",
              "      fill: #D2E3FC;\n",
              "    }\n",
              "\n",
              "    [theme=dark] .colab-df-convert:hover {\n",
              "      background-color: #434B5C;\n",
              "      box-shadow: 0px 1px 3px 1px rgba(0, 0, 0, 0.15);\n",
              "      filter: drop-shadow(0px 1px 2px rgba(0, 0, 0, 0.3));\n",
              "      fill: #FFFFFF;\n",
              "    }\n",
              "  </style>\n",
              "\n",
              "      <script>\n",
              "        const buttonEl =\n",
              "          document.querySelector('#df-2f5b589a-75c7-4b4c-bf36-042f9346bdd9 button.colab-df-convert');\n",
              "        buttonEl.style.display =\n",
              "          google.colab.kernel.accessAllowed ? 'block' : 'none';\n",
              "\n",
              "        async function convertToInteractive(key) {\n",
              "          const element = document.querySelector('#df-2f5b589a-75c7-4b4c-bf36-042f9346bdd9');\n",
              "          const dataTable =\n",
              "            await google.colab.kernel.invokeFunction('convertToInteractive',\n",
              "                                                     [key], {});\n",
              "          if (!dataTable) return;\n",
              "\n",
              "          const docLinkHtml = 'Like what you see? Visit the ' +\n",
              "            '<a target=\"_blank\" href=https://colab.research.google.com/notebooks/data_table.ipynb>data table notebook</a>'\n",
              "            + ' to learn more about interactive tables.';\n",
              "          element.innerHTML = '';\n",
              "          dataTable['output_type'] = 'display_data';\n",
              "          await google.colab.output.renderOutput(dataTable, element);\n",
              "          const docLink = document.createElement('div');\n",
              "          docLink.innerHTML = docLinkHtml;\n",
              "          element.appendChild(docLink);\n",
              "        }\n",
              "      </script>\n",
              "    </div>\n",
              "  </div>\n",
              "  "
            ]
          },
          "metadata": {},
          "execution_count": 6
        }
      ]
    },
    {
      "cell_type": "code",
      "source": [
        "# top 10 - support stance \n",
        "\n",
        "groupby_df.sort_values(\"support\",ascending=False)[['support']].head(10)"
      ],
      "metadata": {
        "colab": {
          "base_uri": "https://localhost:8080/",
          "height": 394
        },
        "id": "WlRaPgZYrQTp",
        "outputId": "27c3c566-6f25-4374-f1b8-0f1c4a2155fd"
      },
      "execution_count": 9,
      "outputs": [
        {
          "output_type": "execute_result",
          "data": {
            "text/plain": [
              "               support\n",
              "token                 \n",
              "['Forward']   0.943213\n",
              "['wrapping']  0.920116\n",
              "['Block']     0.887537\n",
              "['Solid']     0.873881\n",
              "['Marriage']  0.856949\n",
              "['approved']  0.797272\n",
              "['Large']     0.770867\n",
              "['passed']    0.763495\n",
              "['furious']   0.761476\n",
              "['close']     0.741455"
            ],
            "text/html": [
              "\n",
              "  <div id=\"df-721b4ca9-5f29-4418-b39e-5018d7210fe7\">\n",
              "    <div class=\"colab-df-container\">\n",
              "      <div>\n",
              "<style scoped>\n",
              "    .dataframe tbody tr th:only-of-type {\n",
              "        vertical-align: middle;\n",
              "    }\n",
              "\n",
              "    .dataframe tbody tr th {\n",
              "        vertical-align: top;\n",
              "    }\n",
              "\n",
              "    .dataframe thead th {\n",
              "        text-align: right;\n",
              "    }\n",
              "</style>\n",
              "<table border=\"1\" class=\"dataframe\">\n",
              "  <thead>\n",
              "    <tr style=\"text-align: right;\">\n",
              "      <th></th>\n",
              "      <th>support</th>\n",
              "    </tr>\n",
              "    <tr>\n",
              "      <th>token</th>\n",
              "      <th></th>\n",
              "    </tr>\n",
              "  </thead>\n",
              "  <tbody>\n",
              "    <tr>\n",
              "      <th>['Forward']</th>\n",
              "      <td>0.943213</td>\n",
              "    </tr>\n",
              "    <tr>\n",
              "      <th>['wrapping']</th>\n",
              "      <td>0.920116</td>\n",
              "    </tr>\n",
              "    <tr>\n",
              "      <th>['Block']</th>\n",
              "      <td>0.887537</td>\n",
              "    </tr>\n",
              "    <tr>\n",
              "      <th>['Solid']</th>\n",
              "      <td>0.873881</td>\n",
              "    </tr>\n",
              "    <tr>\n",
              "      <th>['Marriage']</th>\n",
              "      <td>0.856949</td>\n",
              "    </tr>\n",
              "    <tr>\n",
              "      <th>['approved']</th>\n",
              "      <td>0.797272</td>\n",
              "    </tr>\n",
              "    <tr>\n",
              "      <th>['Large']</th>\n",
              "      <td>0.770867</td>\n",
              "    </tr>\n",
              "    <tr>\n",
              "      <th>['passed']</th>\n",
              "      <td>0.763495</td>\n",
              "    </tr>\n",
              "    <tr>\n",
              "      <th>['furious']</th>\n",
              "      <td>0.761476</td>\n",
              "    </tr>\n",
              "    <tr>\n",
              "      <th>['close']</th>\n",
              "      <td>0.741455</td>\n",
              "    </tr>\n",
              "  </tbody>\n",
              "</table>\n",
              "</div>\n",
              "      <button class=\"colab-df-convert\" onclick=\"convertToInteractive('df-721b4ca9-5f29-4418-b39e-5018d7210fe7')\"\n",
              "              title=\"Convert this dataframe to an interactive table.\"\n",
              "              style=\"display:none;\">\n",
              "        \n",
              "  <svg xmlns=\"http://www.w3.org/2000/svg\" height=\"24px\"viewBox=\"0 0 24 24\"\n",
              "       width=\"24px\">\n",
              "    <path d=\"M0 0h24v24H0V0z\" fill=\"none\"/>\n",
              "    <path d=\"M18.56 5.44l.94 2.06.94-2.06 2.06-.94-2.06-.94-.94-2.06-.94 2.06-2.06.94zm-11 1L8.5 8.5l.94-2.06 2.06-.94-2.06-.94L8.5 2.5l-.94 2.06-2.06.94zm10 10l.94 2.06.94-2.06 2.06-.94-2.06-.94-.94-2.06-.94 2.06-2.06.94z\"/><path d=\"M17.41 7.96l-1.37-1.37c-.4-.4-.92-.59-1.43-.59-.52 0-1.04.2-1.43.59L10.3 9.45l-7.72 7.72c-.78.78-.78 2.05 0 2.83L4 21.41c.39.39.9.59 1.41.59.51 0 1.02-.2 1.41-.59l7.78-7.78 2.81-2.81c.8-.78.8-2.07 0-2.86zM5.41 20L4 18.59l7.72-7.72 1.47 1.35L5.41 20z\"/>\n",
              "  </svg>\n",
              "      </button>\n",
              "      \n",
              "  <style>\n",
              "    .colab-df-container {\n",
              "      display:flex;\n",
              "      flex-wrap:wrap;\n",
              "      gap: 12px;\n",
              "    }\n",
              "\n",
              "    .colab-df-convert {\n",
              "      background-color: #E8F0FE;\n",
              "      border: none;\n",
              "      border-radius: 50%;\n",
              "      cursor: pointer;\n",
              "      display: none;\n",
              "      fill: #1967D2;\n",
              "      height: 32px;\n",
              "      padding: 0 0 0 0;\n",
              "      width: 32px;\n",
              "    }\n",
              "\n",
              "    .colab-df-convert:hover {\n",
              "      background-color: #E2EBFA;\n",
              "      box-shadow: 0px 1px 2px rgba(60, 64, 67, 0.3), 0px 1px 3px 1px rgba(60, 64, 67, 0.15);\n",
              "      fill: #174EA6;\n",
              "    }\n",
              "\n",
              "    [theme=dark] .colab-df-convert {\n",
              "      background-color: #3B4455;\n",
              "      fill: #D2E3FC;\n",
              "    }\n",
              "\n",
              "    [theme=dark] .colab-df-convert:hover {\n",
              "      background-color: #434B5C;\n",
              "      box-shadow: 0px 1px 3px 1px rgba(0, 0, 0, 0.15);\n",
              "      filter: drop-shadow(0px 1px 2px rgba(0, 0, 0, 0.3));\n",
              "      fill: #FFFFFF;\n",
              "    }\n",
              "  </style>\n",
              "\n",
              "      <script>\n",
              "        const buttonEl =\n",
              "          document.querySelector('#df-721b4ca9-5f29-4418-b39e-5018d7210fe7 button.colab-df-convert');\n",
              "        buttonEl.style.display =\n",
              "          google.colab.kernel.accessAllowed ? 'block' : 'none';\n",
              "\n",
              "        async function convertToInteractive(key) {\n",
              "          const element = document.querySelector('#df-721b4ca9-5f29-4418-b39e-5018d7210fe7');\n",
              "          const dataTable =\n",
              "            await google.colab.kernel.invokeFunction('convertToInteractive',\n",
              "                                                     [key], {});\n",
              "          if (!dataTable) return;\n",
              "\n",
              "          const docLinkHtml = 'Like what you see? Visit the ' +\n",
              "            '<a target=\"_blank\" href=https://colab.research.google.com/notebooks/data_table.ipynb>data table notebook</a>'\n",
              "            + ' to learn more about interactive tables.';\n",
              "          element.innerHTML = '';\n",
              "          dataTable['output_type'] = 'display_data';\n",
              "          await google.colab.output.renderOutput(dataTable, element);\n",
              "          const docLink = document.createElement('div');\n",
              "          docLink.innerHTML = docLinkHtml;\n",
              "          element.appendChild(docLink);\n",
              "        }\n",
              "      </script>\n",
              "    </div>\n",
              "  </div>\n",
              "  "
            ]
          },
          "metadata": {},
          "execution_count": 9
        }
      ]
    },
    {
      "cell_type": "code",
      "source": [
        "# top 10 - refute stance \n",
        "groupby_df.sort_values(\"refute\",ascending=False)[['refute']].head(20)"
      ],
      "metadata": {
        "colab": {
          "base_uri": "https://localhost:8080/",
          "height": 707
        },
        "id": "zSShhZSxrU8N",
        "outputId": "a4d0c7e1-5fcf-4b46-d36e-29cb6157d384"
      },
      "execution_count": 10,
      "outputs": [
        {
          "output_type": "execute_result",
          "data": {
            "text/plain": [
              "                   refute\n",
              "token                    \n",
              "['squash']       2.135632\n",
              "['warning']      1.664823\n",
              "['foil']         1.459582\n",
              "['rejected']     1.427608\n",
              "['Block']        1.326470\n",
              "['block']        1.318380\n",
              "['muted']        1.315647\n",
              "['tough']        1.241860\n",
              "['threaten']     1.218785\n",
              "['heat']         1.199774\n",
              "['challenging']  1.132325\n",
              "['hurdles']      1.069509\n",
              "['blocking']     0.981069\n",
              "['postponed']    0.961169\n",
              "['opposed']      0.934535\n",
              "['blocked']      0.929902\n",
              "['object']       0.876915\n",
              "['buy']          0.852305\n",
              "['reject']       0.831577\n",
              "['resistance']   0.767670"
            ],
            "text/html": [
              "\n",
              "  <div id=\"df-39684a89-9063-42e6-8181-2be34e1117d2\">\n",
              "    <div class=\"colab-df-container\">\n",
              "      <div>\n",
              "<style scoped>\n",
              "    .dataframe tbody tr th:only-of-type {\n",
              "        vertical-align: middle;\n",
              "    }\n",
              "\n",
              "    .dataframe tbody tr th {\n",
              "        vertical-align: top;\n",
              "    }\n",
              "\n",
              "    .dataframe thead th {\n",
              "        text-align: right;\n",
              "    }\n",
              "</style>\n",
              "<table border=\"1\" class=\"dataframe\">\n",
              "  <thead>\n",
              "    <tr style=\"text-align: right;\">\n",
              "      <th></th>\n",
              "      <th>refute</th>\n",
              "    </tr>\n",
              "    <tr>\n",
              "      <th>token</th>\n",
              "      <th></th>\n",
              "    </tr>\n",
              "  </thead>\n",
              "  <tbody>\n",
              "    <tr>\n",
              "      <th>['squash']</th>\n",
              "      <td>2.135632</td>\n",
              "    </tr>\n",
              "    <tr>\n",
              "      <th>['warning']</th>\n",
              "      <td>1.664823</td>\n",
              "    </tr>\n",
              "    <tr>\n",
              "      <th>['foil']</th>\n",
              "      <td>1.459582</td>\n",
              "    </tr>\n",
              "    <tr>\n",
              "      <th>['rejected']</th>\n",
              "      <td>1.427608</td>\n",
              "    </tr>\n",
              "    <tr>\n",
              "      <th>['Block']</th>\n",
              "      <td>1.326470</td>\n",
              "    </tr>\n",
              "    <tr>\n",
              "      <th>['block']</th>\n",
              "      <td>1.318380</td>\n",
              "    </tr>\n",
              "    <tr>\n",
              "      <th>['muted']</th>\n",
              "      <td>1.315647</td>\n",
              "    </tr>\n",
              "    <tr>\n",
              "      <th>['tough']</th>\n",
              "      <td>1.241860</td>\n",
              "    </tr>\n",
              "    <tr>\n",
              "      <th>['threaten']</th>\n",
              "      <td>1.218785</td>\n",
              "    </tr>\n",
              "    <tr>\n",
              "      <th>['heat']</th>\n",
              "      <td>1.199774</td>\n",
              "    </tr>\n",
              "    <tr>\n",
              "      <th>['challenging']</th>\n",
              "      <td>1.132325</td>\n",
              "    </tr>\n",
              "    <tr>\n",
              "      <th>['hurdles']</th>\n",
              "      <td>1.069509</td>\n",
              "    </tr>\n",
              "    <tr>\n",
              "      <th>['blocking']</th>\n",
              "      <td>0.981069</td>\n",
              "    </tr>\n",
              "    <tr>\n",
              "      <th>['postponed']</th>\n",
              "      <td>0.961169</td>\n",
              "    </tr>\n",
              "    <tr>\n",
              "      <th>['opposed']</th>\n",
              "      <td>0.934535</td>\n",
              "    </tr>\n",
              "    <tr>\n",
              "      <th>['blocked']</th>\n",
              "      <td>0.929902</td>\n",
              "    </tr>\n",
              "    <tr>\n",
              "      <th>['object']</th>\n",
              "      <td>0.876915</td>\n",
              "    </tr>\n",
              "    <tr>\n",
              "      <th>['buy']</th>\n",
              "      <td>0.852305</td>\n",
              "    </tr>\n",
              "    <tr>\n",
              "      <th>['reject']</th>\n",
              "      <td>0.831577</td>\n",
              "    </tr>\n",
              "    <tr>\n",
              "      <th>['resistance']</th>\n",
              "      <td>0.767670</td>\n",
              "    </tr>\n",
              "  </tbody>\n",
              "</table>\n",
              "</div>\n",
              "      <button class=\"colab-df-convert\" onclick=\"convertToInteractive('df-39684a89-9063-42e6-8181-2be34e1117d2')\"\n",
              "              title=\"Convert this dataframe to an interactive table.\"\n",
              "              style=\"display:none;\">\n",
              "        \n",
              "  <svg xmlns=\"http://www.w3.org/2000/svg\" height=\"24px\"viewBox=\"0 0 24 24\"\n",
              "       width=\"24px\">\n",
              "    <path d=\"M0 0h24v24H0V0z\" fill=\"none\"/>\n",
              "    <path d=\"M18.56 5.44l.94 2.06.94-2.06 2.06-.94-2.06-.94-.94-2.06-.94 2.06-2.06.94zm-11 1L8.5 8.5l.94-2.06 2.06-.94-2.06-.94L8.5 2.5l-.94 2.06-2.06.94zm10 10l.94 2.06.94-2.06 2.06-.94-2.06-.94-.94-2.06-.94 2.06-2.06.94z\"/><path d=\"M17.41 7.96l-1.37-1.37c-.4-.4-.92-.59-1.43-.59-.52 0-1.04.2-1.43.59L10.3 9.45l-7.72 7.72c-.78.78-.78 2.05 0 2.83L4 21.41c.39.39.9.59 1.41.59.51 0 1.02-.2 1.41-.59l7.78-7.78 2.81-2.81c.8-.78.8-2.07 0-2.86zM5.41 20L4 18.59l7.72-7.72 1.47 1.35L5.41 20z\"/>\n",
              "  </svg>\n",
              "      </button>\n",
              "      \n",
              "  <style>\n",
              "    .colab-df-container {\n",
              "      display:flex;\n",
              "      flex-wrap:wrap;\n",
              "      gap: 12px;\n",
              "    }\n",
              "\n",
              "    .colab-df-convert {\n",
              "      background-color: #E8F0FE;\n",
              "      border: none;\n",
              "      border-radius: 50%;\n",
              "      cursor: pointer;\n",
              "      display: none;\n",
              "      fill: #1967D2;\n",
              "      height: 32px;\n",
              "      padding: 0 0 0 0;\n",
              "      width: 32px;\n",
              "    }\n",
              "\n",
              "    .colab-df-convert:hover {\n",
              "      background-color: #E2EBFA;\n",
              "      box-shadow: 0px 1px 2px rgba(60, 64, 67, 0.3), 0px 1px 3px 1px rgba(60, 64, 67, 0.15);\n",
              "      fill: #174EA6;\n",
              "    }\n",
              "\n",
              "    [theme=dark] .colab-df-convert {\n",
              "      background-color: #3B4455;\n",
              "      fill: #D2E3FC;\n",
              "    }\n",
              "\n",
              "    [theme=dark] .colab-df-convert:hover {\n",
              "      background-color: #434B5C;\n",
              "      box-shadow: 0px 1px 3px 1px rgba(0, 0, 0, 0.15);\n",
              "      filter: drop-shadow(0px 1px 2px rgba(0, 0, 0, 0.3));\n",
              "      fill: #FFFFFF;\n",
              "    }\n",
              "  </style>\n",
              "\n",
              "      <script>\n",
              "        const buttonEl =\n",
              "          document.querySelector('#df-39684a89-9063-42e6-8181-2be34e1117d2 button.colab-df-convert');\n",
              "        buttonEl.style.display =\n",
              "          google.colab.kernel.accessAllowed ? 'block' : 'none';\n",
              "\n",
              "        async function convertToInteractive(key) {\n",
              "          const element = document.querySelector('#df-39684a89-9063-42e6-8181-2be34e1117d2');\n",
              "          const dataTable =\n",
              "            await google.colab.kernel.invokeFunction('convertToInteractive',\n",
              "                                                     [key], {});\n",
              "          if (!dataTable) return;\n",
              "\n",
              "          const docLinkHtml = 'Like what you see? Visit the ' +\n",
              "            '<a target=\"_blank\" href=https://colab.research.google.com/notebooks/data_table.ipynb>data table notebook</a>'\n",
              "            + ' to learn more about interactive tables.';\n",
              "          element.innerHTML = '';\n",
              "          dataTable['output_type'] = 'display_data';\n",
              "          await google.colab.output.renderOutput(dataTable, element);\n",
              "          const docLink = document.createElement('div');\n",
              "          docLink.innerHTML = docLinkHtml;\n",
              "          element.appendChild(docLink);\n",
              "        }\n",
              "      </script>\n",
              "    </div>\n",
              "  </div>\n",
              "  "
            ]
          },
          "metadata": {},
          "execution_count": 10
        }
      ]
    },
    {
      "cell_type": "code",
      "source": [
        ""
      ],
      "metadata": {
        "id": "rZb-uDgKvNFN"
      },
      "execution_count": null,
      "outputs": []
    },
    {
      "cell_type": "markdown",
      "source": [
        "### plot"
      ],
      "metadata": {
        "id": "UjjOoR2WvIZa"
      }
    },
    {
      "cell_type": "code",
      "source": [
        "def ABS_SHAP(groupby_df, stance, num_of_top_words, dataset=\"tWT-WT\"):\n",
        "\n",
        "  from matplotlib import rcParams\n",
        "\n",
        "  # figure size in inches\n",
        "  # rcParams['figure.figsize'] = 5,6\n",
        "\n",
        "  shap_v = pd.DataFrame(groupby_df)\n",
        "  stance_df = shap_v[stance]\n",
        "  stance_df = stance_df.reset_index()\n",
        "  # stance_df_plot = pd.DataFrame({\"token\": stance_df[\"token\"], \"SHAP_abs\": np.abs(stance_df[stance]), \"SHAP\": stance_df[stance]})\n",
        "  stance_df_plot = pd.DataFrame({\"token\": stance_df[\"token\"], \"SHAP Value\": stance_df[stance], \"SHAP\": stance_df[stance]})\n",
        "\n",
        "  stance_df_plot = stance_df_plot.sort_values(by=\"SHAP Value\", ascending=False)\n",
        "  stance_df_plot[\"sign\"] = np.where(stance_df_plot[\"SHAP\"] > 0, \"red\", \"blue\")\n",
        "  stance_df_plot = stance_df_plot.head(num_of_top_words)\n",
        "  # ax = stance_df_plot.plot.barh(x=\"token\", y=\"SHAP Value\", color = stance_df_plot[\"sign\"], figsize=(5,6))\n",
        "  ax = stance_df_plot.plot.barh(x=\"token\", y=\"SHAP Value\", color = 'darkblue', figsize=(5,6))\n",
        "\n",
        "\n",
        "\n",
        "  # ax = sns.barplot(y=\"token\", x=\"SHAP Value\", data=stance_df_plot,color = 'darkblue',orient=\"h\")\n",
        "\n",
        "\n",
        "  ax.set_xlabel(f\"{dataset}: SHAP Value for stance\")\n",
        "\n",
        " \n",
        "\n",
        "  plt_name = dataset + \"_\" + stance + \".png\" \n",
        "  ax.figure.savefig(plt_name)\n",
        "  "
      ],
      "metadata": {
        "id": "r2gUFSKD8fjq"
      },
      "execution_count": 113,
      "outputs": []
    },
    {
      "cell_type": "code",
      "source": [
        "ABS_SHAP(groupby_df, \"refute\", 20)\n",
        "\n"
      ],
      "metadata": {
        "colab": {
          "base_uri": "https://localhost:8080/",
          "height": 387
        },
        "id": "jFqRUPM68jbb",
        "outputId": "8801238b-b124-4e77-e058-d974e0d39d07"
      },
      "execution_count": 114,
      "outputs": [
        {
          "output_type": "display_data",
          "data": {
            "text/plain": [
              "<Figure size 360x432 with 1 Axes>"
            ],
            "image/png": "[encoded data removed]"
          },
          "metadata": {
            "needs_background": "light"
          }
        }
      ]
    },
    {
      "cell_type": "code",
      "source": [
        "ABS_SHAP(groupby_df, \"support\", 20)\n"
      ],
      "metadata": {
        "colab": {
          "base_uri": "https://localhost:8080/",
          "height": 387
        },
        "id": "S6KYNDq2WUNJ",
        "outputId": "9a36b35f-3e65-4e66-c815-073627a2487f"
      },
      "execution_count": 116,
      "outputs": [
        {
          "output_type": "display_data",
          "data": {
            "text/plain": [
              "<Figure size 360x432 with 1 Axes>"
            ],
            "image/png": "[encoded data removed]"
          },
          "metadata": {
            "needs_background": "light"
          }
        }
      ]
    },
    {
      "cell_type": "code",
      "source": [
        "ABS_SHAP(groupby_df_wtwt_notgt, \"support\", 20,\"WT-WT No target\")\n"
      ],
      "metadata": {
        "id": "iR1-IqFvuGUc",
        "outputId": "7cd5d418-09b4-4012-bfbc-0d284c2b7b35",
        "colab": {
          "base_uri": "https://localhost:8080/",
          "height": 387
        }
      },
      "execution_count": 115,
      "outputs": [
        {
          "output_type": "display_data",
          "data": {
            "text/plain": [
              "<Figure size 360x432 with 1 Axes>"
            ],
            "image/png": "[encoded data removed]"
          },
          "metadata": {
            "needs_background": "light"
          }
        }
      ]
    },
    {
      "cell_type": "code",
      "source": [
        "ABS_SHAP(groupby_df_wtwt, \"support\", 20,\"WT-WT target\")\n"
      ],
      "metadata": {
        "id": "gzVOEQxJuNKD",
        "outputId": "73a10cef-e071-453a-b610-b19599c78b64",
        "colab": {
          "base_uri": "https://localhost:8080/",
          "height": 387
        }
      },
      "execution_count": 117,
      "outputs": [
        {
          "output_type": "display_data",
          "data": {
            "text/plain": [
              "<Figure size 360x432 with 1 Axes>"
            ],
            "image/png": "[encoded data removed]"
          },
          "metadata": {
            "needs_background": "light"
          }
        }
      ]
    },
    {
      "cell_type": "code",
      "source": [
        "ABS_SHAP(groupby_df, \"comment\", 20)\n"
      ],
      "metadata": {
        "id": "PLrAXoc0fy1t",
        "outputId": "6b390bed-8ba9-42fb-a34f-019b6c4cb2a9",
        "colab": {
          "base_uri": "https://localhost:8080/",
          "height": 387
        }
      },
      "execution_count": 80,
      "outputs": [
        {
          "output_type": "display_data",
          "data": {
            "text/plain": [
              "<Figure size 360x432 with 1 Axes>"
            ],
            "image/png": "[encoded data removed]"
          },
          "metadata": {
            "needs_background": "light"
          }
        }
      ]
    },
    {
      "cell_type": "code",
      "source": [
        "ABS_SHAP(groupby_df, \"unrelated\", 20)\n"
      ],
      "metadata": {
        "id": "5P1l48Wpf1lU",
        "outputId": "a5f32e8a-71f4-480e-bfc3-ae2834235608",
        "colab": {
          "base_uri": "https://localhost:8080/",
          "height": 387
        }
      },
      "execution_count": 81,
      "outputs": [
        {
          "output_type": "display_data",
          "data": {
            "text/plain": [
              "<Figure size 360x432 with 1 Axes>"
            ],
            "image/png": "[encoded data removed]"
          },
          "metadata": {
            "needs_background": "light"
          }
        }
      ]
    },
    {
      "cell_type": "markdown",
      "source": [
        "## CI ESRX WT WT no target"
      ],
      "metadata": {
        "id": "i2Fni3fdNgdM"
      }
    },
    {
      "cell_type": "code",
      "source": [
        "## wt wt \n",
        "\n",
        "CI_ESRX_notarget = \"/content/gdrive/MyDrive/NLP Stance Detection/Code_Kaushal/saves/wtwt_CI_ESRX_notarget/model_output_shap\"\n",
        "# output_path = \"/content/gdrive/MyDrive/NLP Stance Detection/tWT_WT/saves/twtwt_CI_ESRX_target/model_output_shap\"\n",
        "ungrouped_df, groupby_df_wtwt_notgt= get_scores(CI_ESRX_notarget)"
      ],
      "metadata": {
        "id": "XKZLIpA9kPfr",
        "outputId": "55091962-3d9c-44bb-8ec6-ad0ae7cbd85b",
        "colab": {
          "base_uri": "https://localhost:8080/"
        }
      },
      "execution_count": 75,
      "outputs": [
        {
          "output_type": "stream",
          "name": "stdout",
          "text": [
            "before filtering: 8111\n",
            "after filtering: 8111\n"
          ]
        }
      ]
    },
    {
      "cell_type": "code",
      "source": [
        "ABS_SHAP(groupby_df_wtwt_notgt, \"refute\", 20,\"WT-WT No target\")\n"
      ],
      "metadata": {
        "id": "ZVMfIDGfkgDy",
        "outputId": "fe37d47e-0296-4808-913f-a19f25042692",
        "colab": {
          "base_uri": "https://localhost:8080/",
          "height": 387
        }
      },
      "execution_count": 82,
      "outputs": [
        {
          "output_type": "display_data",
          "data": {
            "text/plain": [
              "<Figure size 360x432 with 1 Axes>"
            ],
            "image/png": "[encoded data removed]"
          },
          "metadata": {
            "needs_background": "light"
          }
        }
      ]
    },
    {
      "cell_type": "code",
      "source": [
        "ABS_SHAP(groupby_df_wtwt_notgt, \"support\", 20,\"WT-WT No target\")\n"
      ],
      "metadata": {
        "id": "YDQgtRy_lAxb",
        "outputId": "e1ef6b25-e7e3-471d-d410-c51f4f9679a0",
        "colab": {
          "base_uri": "https://localhost:8080/",
          "height": 387
        }
      },
      "execution_count": 83,
      "outputs": [
        {
          "output_type": "display_data",
          "data": {
            "text/plain": [
              "<Figure size 360x432 with 1 Axes>"
            ],
            "image/png": "[encoded data removed]"
          },
          "metadata": {
            "needs_background": "light"
          }
        }
      ]
    },
    {
      "cell_type": "code",
      "source": [
        "ABS_SHAP(groupby_df_wtwt_notgt, \"comment\", 20,\"WT-WT No target\")\n"
      ],
      "metadata": {
        "id": "u52-B8gLlGfd",
        "outputId": "ff06d7ab-2381-432c-f939-2050674d7f82",
        "colab": {
          "base_uri": "https://localhost:8080/",
          "height": 387
        }
      },
      "execution_count": 84,
      "outputs": [
        {
          "output_type": "display_data",
          "data": {
            "text/plain": [
              "<Figure size 360x432 with 1 Axes>"
            ],
            "image/png": "[encoded data removed]"
          },
          "metadata": {
            "needs_background": "light"
          }
        }
      ]
    },
    {
      "cell_type": "code",
      "source": [
        "ABS_SHAP(groupby_df_wtwt_notgt, \"unrelated\", 20,\"WT-WT No target\")\n"
      ],
      "metadata": {
        "id": "wLCkkQ_xlI9N",
        "outputId": "3279b83f-4668-4dfe-c3ff-9a54bf53e057",
        "colab": {
          "base_uri": "https://localhost:8080/",
          "height": 387
        }
      },
      "execution_count": 85,
      "outputs": [
        {
          "output_type": "display_data",
          "data": {
            "text/plain": [
              "<Figure size 360x432 with 1 Axes>"
            ],
            "image/png": "[encoded data removed]"
          },
          "metadata": {
            "needs_background": "light"
          }
        }
      ]
    },
    {
      "cell_type": "code",
      "source": [
        "# top 10 - support stance \n",
        "groupby_df_wtwt_notgt.sort_values(\"support\",ascending=False)[['support']].head(20)"
      ],
      "metadata": {
        "colab": {
          "base_uri": "https://localhost:8080/",
          "height": 707
        },
        "id": "KKOEdg4wNikZ",
        "outputId": "27d5dea7-1514-4176-97fa-84097791145d"
      },
      "execution_count": 6,
      "outputs": [
        {
          "output_type": "execute_result",
          "data": {
            "text/plain": [
              "                 support\n",
              "token                   \n",
              "['nears']       1.251128\n",
              "['Reportedly']  1.239876\n",
              "['enters']      0.657574\n",
              "['acquiring']   0.654052\n",
              "['Analyst']     0.646148\n",
              "['Billion']     0.645379\n",
              "['buys']        0.561839\n",
              "['close']       0.502102\n",
              "['jumps']       0.496965\n",
              "['Buying']      0.470561\n",
              "['locked']      0.453694\n",
              "['bought']      0.448273\n",
              "['Pace']        0.421509\n",
              "['buying']      0.421318\n",
              "['improves']    0.410969\n",
              "['Deal']        0.409842\n",
              "['fine']        0.394493\n",
              "['High']        0.390801\n",
              "['Closes']      0.384006\n",
              "['candidate']   0.379338"
            ],
            "text/html": [
              "\n",
              "  <div id=\"df-059728e4-7430-4fd5-a2a7-1c8af89b1798\">\n",
              "    <div class=\"colab-df-container\">\n",
              "      <div>\n",
              "<style scoped>\n",
              "    .dataframe tbody tr th:only-of-type {\n",
              "        vertical-align: middle;\n",
              "    }\n",
              "\n",
              "    .dataframe tbody tr th {\n",
              "        vertical-align: top;\n",
              "    }\n",
              "\n",
              "    .dataframe thead th {\n",
              "        text-align: right;\n",
              "    }\n",
              "</style>\n",
              "<table border=\"1\" class=\"dataframe\">\n",
              "  <thead>\n",
              "    <tr style=\"text-align: right;\">\n",
              "      <th></th>\n",
              "      <th>support</th>\n",
              "    </tr>\n",
              "    <tr>\n",
              "      <th>token</th>\n",
              "      <th></th>\n",
              "    </tr>\n",
              "  </thead>\n",
              "  <tbody>\n",
              "    <tr>\n",
              "      <th>['nears']</th>\n",
              "      <td>1.251128</td>\n",
              "    </tr>\n",
              "    <tr>\n",
              "      <th>['Reportedly']</th>\n",
              "      <td>1.239876</td>\n",
              "    </tr>\n",
              "    <tr>\n",
              "      <th>['enters']</th>\n",
              "      <td>0.657574</td>\n",
              "    </tr>\n",
              "    <tr>\n",
              "      <th>['acquiring']</th>\n",
              "      <td>0.654052</td>\n",
              "    </tr>\n",
              "    <tr>\n",
              "      <th>['Analyst']</th>\n",
              "      <td>0.646148</td>\n",
              "    </tr>\n",
              "    <tr>\n",
              "      <th>['Billion']</th>\n",
              "      <td>0.645379</td>\n",
              "    </tr>\n",
              "    <tr>\n",
              "      <th>['buys']</th>\n",
              "      <td>0.561839</td>\n",
              "    </tr>\n",
              "    <tr>\n",
              "      <th>['close']</th>\n",
              "      <td>0.502102</td>\n",
              "    </tr>\n",
              "    <tr>\n",
              "      <th>['jumps']</th>\n",
              "      <td>0.496965</td>\n",
              "    </tr>\n",
              "    <tr>\n",
              "      <th>['Buying']</th>\n",
              "      <td>0.470561</td>\n",
              "    </tr>\n",
              "    <tr>\n",
              "      <th>['locked']</th>\n",
              "      <td>0.453694</td>\n",
              "    </tr>\n",
              "    <tr>\n",
              "      <th>['bought']</th>\n",
              "      <td>0.448273</td>\n",
              "    </tr>\n",
              "    <tr>\n",
              "      <th>['Pace']</th>\n",
              "      <td>0.421509</td>\n",
              "    </tr>\n",
              "    <tr>\n",
              "      <th>['buying']</th>\n",
              "      <td>0.421318</td>\n",
              "    </tr>\n",
              "    <tr>\n",
              "      <th>['improves']</th>\n",
              "      <td>0.410969</td>\n",
              "    </tr>\n",
              "    <tr>\n",
              "      <th>['Deal']</th>\n",
              "      <td>0.409842</td>\n",
              "    </tr>\n",
              "    <tr>\n",
              "      <th>['fine']</th>\n",
              "      <td>0.394493</td>\n",
              "    </tr>\n",
              "    <tr>\n",
              "      <th>['High']</th>\n",
              "      <td>0.390801</td>\n",
              "    </tr>\n",
              "    <tr>\n",
              "      <th>['Closes']</th>\n",
              "      <td>0.384006</td>\n",
              "    </tr>\n",
              "    <tr>\n",
              "      <th>['candidate']</th>\n",
              "      <td>0.379338</td>\n",
              "    </tr>\n",
              "  </tbody>\n",
              "</table>\n",
              "</div>\n",
              "      <button class=\"colab-df-convert\" onclick=\"convertToInteractive('df-059728e4-7430-4fd5-a2a7-1c8af89b1798')\"\n",
              "              title=\"Convert this dataframe to an interactive table.\"\n",
              "              style=\"display:none;\">\n",
              "        \n",
              "  <svg xmlns=\"http://www.w3.org/2000/svg\" height=\"24px\"viewBox=\"0 0 24 24\"\n",
              "       width=\"24px\">\n",
              "    <path d=\"M0 0h24v24H0V0z\" fill=\"none\"/>\n",
              "    <path d=\"M18.56 5.44l.94 2.06.94-2.06 2.06-.94-2.06-.94-.94-2.06-.94 2.06-2.06.94zm-11 1L8.5 8.5l.94-2.06 2.06-.94-2.06-.94L8.5 2.5l-.94 2.06-2.06.94zm10 10l.94 2.06.94-2.06 2.06-.94-2.06-.94-.94-2.06-.94 2.06-2.06.94z\"/><path d=\"M17.41 7.96l-1.37-1.37c-.4-.4-.92-.59-1.43-.59-.52 0-1.04.2-1.43.59L10.3 9.45l-7.72 7.72c-.78.78-.78 2.05 0 2.83L4 21.41c.39.39.9.59 1.41.59.51 0 1.02-.2 1.41-.59l7.78-7.78 2.81-2.81c.8-.78.8-2.07 0-2.86zM5.41 20L4 18.59l7.72-7.72 1.47 1.35L5.41 20z\"/>\n",
              "  </svg>\n",
              "      </button>\n",
              "      \n",
              "  <style>\n",
              "    .colab-df-container {\n",
              "      display:flex;\n",
              "      flex-wrap:wrap;\n",
              "      gap: 12px;\n",
              "    }\n",
              "\n",
              "    .colab-df-convert {\n",
              "      background-color: #E8F0FE;\n",
              "      border: none;\n",
              "      border-radius: 50%;\n",
              "      cursor: pointer;\n",
              "      display: none;\n",
              "      fill: #1967D2;\n",
              "      height: 32px;\n",
              "      padding: 0 0 0 0;\n",
              "      width: 32px;\n",
              "    }\n",
              "\n",
              "    .colab-df-convert:hover {\n",
              "      background-color: #E2EBFA;\n",
              "      box-shadow: 0px 1px 2px rgba(60, 64, 67, 0.3), 0px 1px 3px 1px rgba(60, 64, 67, 0.15);\n",
              "      fill: #174EA6;\n",
              "    }\n",
              "\n",
              "    [theme=dark] .colab-df-convert {\n",
              "      background-color: #3B4455;\n",
              "      fill: #D2E3FC;\n",
              "    }\n",
              "\n",
              "    [theme=dark] .colab-df-convert:hover {\n",
              "      background-color: #434B5C;\n",
              "      box-shadow: 0px 1px 3px 1px rgba(0, 0, 0, 0.15);\n",
              "      filter: drop-shadow(0px 1px 2px rgba(0, 0, 0, 0.3));\n",
              "      fill: #FFFFFF;\n",
              "    }\n",
              "  </style>\n",
              "\n",
              "      <script>\n",
              "        const buttonEl =\n",
              "          document.querySelector('#df-059728e4-7430-4fd5-a2a7-1c8af89b1798 button.colab-df-convert');\n",
              "        buttonEl.style.display =\n",
              "          google.colab.kernel.accessAllowed ? 'block' : 'none';\n",
              "\n",
              "        async function convertToInteractive(key) {\n",
              "          const element = document.querySelector('#df-059728e4-7430-4fd5-a2a7-1c8af89b1798');\n",
              "          const dataTable =\n",
              "            await google.colab.kernel.invokeFunction('convertToInteractive',\n",
              "                                                     [key], {});\n",
              "          if (!dataTable) return;\n",
              "\n",
              "          const docLinkHtml = 'Like what you see? Visit the ' +\n",
              "            '<a target=\"_blank\" href=https://colab.research.google.com/notebooks/data_table.ipynb>data table notebook</a>'\n",
              "            + ' to learn more about interactive tables.';\n",
              "          element.innerHTML = '';\n",
              "          dataTable['output_type'] = 'display_data';\n",
              "          await google.colab.output.renderOutput(dataTable, element);\n",
              "          const docLink = document.createElement('div');\n",
              "          docLink.innerHTML = docLinkHtml;\n",
              "          element.appendChild(docLink);\n",
              "        }\n",
              "      </script>\n",
              "    </div>\n",
              "  </div>\n",
              "  "
            ]
          },
          "metadata": {},
          "execution_count": 6
        }
      ]
    },
    {
      "cell_type": "code",
      "source": [
        "# top 10 - refute stance \n",
        "groupby_df.sort_values(\"refute\",ascending=False)[['refute']].head(20)"
      ],
      "metadata": {
        "colab": {
          "base_uri": "https://localhost:8080/",
          "height": 707
        },
        "id": "_zOkOGkRNo34",
        "outputId": "218979a4-9789-4887-a93f-5cd59cbadcfd"
      },
      "execution_count": 7,
      "outputs": [
        {
          "output_type": "execute_result",
          "data": {
            "text/plain": [
              "                refute\n",
              "token                 \n",
              "['Blocks']    2.070017\n",
              "['face']      1.137720\n",
              "['Judge']     0.917574\n",
              "['Face']      0.832282\n",
              "['warn']      0.830341\n",
              "['blocking']  0.810116\n",
              "['Critics']   0.785159\n",
              "['unlikely']  0.760422\n",
              "['block']     0.754797\n",
              "['against']   0.737973\n",
              "['Against']   0.736510\n",
              "['DOJ']       0.709068\n",
              "['Tough']     0.666028\n",
              "['Reacts']    0.660895\n",
              "['Asks']      0.645882\n",
              "['Federal']   0.533768\n",
              "['blocked']   0.526723\n",
              "['requests']  0.526125\n",
              "['Unlikely']  0.476177\n",
              "['probe']     0.469924"
            ],
            "text/html": [
              "\n",
              "  <div id=\"df-16f6407b-e60e-4a35-984e-db7baebd48af\">\n",
              "    <div class=\"colab-df-container\">\n",
              "      <div>\n",
              "<style scoped>\n",
              "    .dataframe tbody tr th:only-of-type {\n",
              "        vertical-align: middle;\n",
              "    }\n",
              "\n",
              "    .dataframe tbody tr th {\n",
              "        vertical-align: top;\n",
              "    }\n",
              "\n",
              "    .dataframe thead th {\n",
              "        text-align: right;\n",
              "    }\n",
              "</style>\n",
              "<table border=\"1\" class=\"dataframe\">\n",
              "  <thead>\n",
              "    <tr style=\"text-align: right;\">\n",
              "      <th></th>\n",
              "      <th>refute</th>\n",
              "    </tr>\n",
              "    <tr>\n",
              "      <th>token</th>\n",
              "      <th></th>\n",
              "    </tr>\n",
              "  </thead>\n",
              "  <tbody>\n",
              "    <tr>\n",
              "      <th>['Blocks']</th>\n",
              "      <td>2.070017</td>\n",
              "    </tr>\n",
              "    <tr>\n",
              "      <th>['face']</th>\n",
              "      <td>1.137720</td>\n",
              "    </tr>\n",
              "    <tr>\n",
              "      <th>['Judge']</th>\n",
              "      <td>0.917574</td>\n",
              "    </tr>\n",
              "    <tr>\n",
              "      <th>['Face']</th>\n",
              "      <td>0.832282</td>\n",
              "    </tr>\n",
              "    <tr>\n",
              "      <th>['warn']</th>\n",
              "      <td>0.830341</td>\n",
              "    </tr>\n",
              "    <tr>\n",
              "      <th>['blocking']</th>\n",
              "      <td>0.810116</td>\n",
              "    </tr>\n",
              "    <tr>\n",
              "      <th>['Critics']</th>\n",
              "      <td>0.785159</td>\n",
              "    </tr>\n",
              "    <tr>\n",
              "      <th>['unlikely']</th>\n",
              "      <td>0.760422</td>\n",
              "    </tr>\n",
              "    <tr>\n",
              "      <th>['block']</th>\n",
              "      <td>0.754797</td>\n",
              "    </tr>\n",
              "    <tr>\n",
              "      <th>['against']</th>\n",
              "      <td>0.737973</td>\n",
              "    </tr>\n",
              "    <tr>\n",
              "      <th>['Against']</th>\n",
              "      <td>0.736510</td>\n",
              "    </tr>\n",
              "    <tr>\n",
              "      <th>['DOJ']</th>\n",
              "      <td>0.709068</td>\n",
              "    </tr>\n",
              "    <tr>\n",
              "      <th>['Tough']</th>\n",
              "      <td>0.666028</td>\n",
              "    </tr>\n",
              "    <tr>\n",
              "      <th>['Reacts']</th>\n",
              "      <td>0.660895</td>\n",
              "    </tr>\n",
              "    <tr>\n",
              "      <th>['Asks']</th>\n",
              "      <td>0.645882</td>\n",
              "    </tr>\n",
              "    <tr>\n",
              "      <th>['Federal']</th>\n",
              "      <td>0.533768</td>\n",
              "    </tr>\n",
              "    <tr>\n",
              "      <th>['blocked']</th>\n",
              "      <td>0.526723</td>\n",
              "    </tr>\n",
              "    <tr>\n",
              "      <th>['requests']</th>\n",
              "      <td>0.526125</td>\n",
              "    </tr>\n",
              "    <tr>\n",
              "      <th>['Unlikely']</th>\n",
              "      <td>0.476177</td>\n",
              "    </tr>\n",
              "    <tr>\n",
              "      <th>['probe']</th>\n",
              "      <td>0.469924</td>\n",
              "    </tr>\n",
              "  </tbody>\n",
              "</table>\n",
              "</div>\n",
              "      <button class=\"colab-df-convert\" onclick=\"convertToInteractive('df-16f6407b-e60e-4a35-984e-db7baebd48af')\"\n",
              "              title=\"Convert this dataframe to an interactive table.\"\n",
              "              style=\"display:none;\">\n",
              "        \n",
              "  <svg xmlns=\"http://www.w3.org/2000/svg\" height=\"24px\"viewBox=\"0 0 24 24\"\n",
              "       width=\"24px\">\n",
              "    <path d=\"M0 0h24v24H0V0z\" fill=\"none\"/>\n",
              "    <path d=\"M18.56 5.44l.94 2.06.94-2.06 2.06-.94-2.06-.94-.94-2.06-.94 2.06-2.06.94zm-11 1L8.5 8.5l.94-2.06 2.06-.94-2.06-.94L8.5 2.5l-.94 2.06-2.06.94zm10 10l.94 2.06.94-2.06 2.06-.94-2.06-.94-.94-2.06-.94 2.06-2.06.94z\"/><path d=\"M17.41 7.96l-1.37-1.37c-.4-.4-.92-.59-1.43-.59-.52 0-1.04.2-1.43.59L10.3 9.45l-7.72 7.72c-.78.78-.78 2.05 0 2.83L4 21.41c.39.39.9.59 1.41.59.51 0 1.02-.2 1.41-.59l7.78-7.78 2.81-2.81c.8-.78.8-2.07 0-2.86zM5.41 20L4 18.59l7.72-7.72 1.47 1.35L5.41 20z\"/>\n",
              "  </svg>\n",
              "      </button>\n",
              "      \n",
              "  <style>\n",
              "    .colab-df-container {\n",
              "      display:flex;\n",
              "      flex-wrap:wrap;\n",
              "      gap: 12px;\n",
              "    }\n",
              "\n",
              "    .colab-df-convert {\n",
              "      background-color: #E8F0FE;\n",
              "      border: none;\n",
              "      border-radius: 50%;\n",
              "      cursor: pointer;\n",
              "      display: none;\n",
              "      fill: #1967D2;\n",
              "      height: 32px;\n",
              "      padding: 0 0 0 0;\n",
              "      width: 32px;\n",
              "    }\n",
              "\n",
              "    .colab-df-convert:hover {\n",
              "      background-color: #E2EBFA;\n",
              "      box-shadow: 0px 1px 2px rgba(60, 64, 67, 0.3), 0px 1px 3px 1px rgba(60, 64, 67, 0.15);\n",
              "      fill: #174EA6;\n",
              "    }\n",
              "\n",
              "    [theme=dark] .colab-df-convert {\n",
              "      background-color: #3B4455;\n",
              "      fill: #D2E3FC;\n",
              "    }\n",
              "\n",
              "    [theme=dark] .colab-df-convert:hover {\n",
              "      background-color: #434B5C;\n",
              "      box-shadow: 0px 1px 3px 1px rgba(0, 0, 0, 0.15);\n",
              "      filter: drop-shadow(0px 1px 2px rgba(0, 0, 0, 0.3));\n",
              "      fill: #FFFFFF;\n",
              "    }\n",
              "  </style>\n",
              "\n",
              "      <script>\n",
              "        const buttonEl =\n",
              "          document.querySelector('#df-16f6407b-e60e-4a35-984e-db7baebd48af button.colab-df-convert');\n",
              "        buttonEl.style.display =\n",
              "          google.colab.kernel.accessAllowed ? 'block' : 'none';\n",
              "\n",
              "        async function convertToInteractive(key) {\n",
              "          const element = document.querySelector('#df-16f6407b-e60e-4a35-984e-db7baebd48af');\n",
              "          const dataTable =\n",
              "            await google.colab.kernel.invokeFunction('convertToInteractive',\n",
              "                                                     [key], {});\n",
              "          if (!dataTable) return;\n",
              "\n",
              "          const docLinkHtml = 'Like what you see? Visit the ' +\n",
              "            '<a target=\"_blank\" href=https://colab.research.google.com/notebooks/data_table.ipynb>data table notebook</a>'\n",
              "            + ' to learn more about interactive tables.';\n",
              "          element.innerHTML = '';\n",
              "          dataTable['output_type'] = 'display_data';\n",
              "          await google.colab.output.renderOutput(dataTable, element);\n",
              "          const docLink = document.createElement('div');\n",
              "          docLink.innerHTML = docLinkHtml;\n",
              "          element.appendChild(docLink);\n",
              "        }\n",
              "      </script>\n",
              "    </div>\n",
              "  </div>\n",
              "  "
            ]
          },
          "metadata": {},
          "execution_count": 7
        }
      ]
    },
    {
      "cell_type": "markdown",
      "source": [
        "## CI ESRX target"
      ],
      "metadata": {
        "id": "2zLggq3yNi35"
      }
    },
    {
      "cell_type": "code",
      "source": [
        "## wt wt \n",
        "\n",
        "CI_ESRX_target_WTWT = \"/content/gdrive/MyDrive/NLP Stance Detection/xai_atanasova/WTWT/CI_ESRX_target/model_output_shap\"\n",
        "# output_path = \"/content/gdrive/MyDrive/NLP Stance Detection/tWT_WT/saves/twtwt_CI_ESRX_target/model_output_shap\"\n",
        "ungrouped_df, groupby_df_wtwt= get_scores(CI_ESRX_target_WTWT)"
      ],
      "metadata": {
        "colab": {
          "base_uri": "https://localhost:8080/"
        },
        "id": "wECduA1iW_FS",
        "outputId": "4ee480b6-8589-4501-f994-c70b62b9fd14"
      },
      "execution_count": 70,
      "outputs": [
        {
          "output_type": "stream",
          "name": "stdout",
          "text": [
            "before filtering: 76882\n",
            "after filtering: 61300\n"
          ]
        }
      ]
    },
    {
      "cell_type": "code",
      "source": [
        "ABS_SHAP(groupby_df_wtwt, \"support\", 20,\"WT-WT target\")\n"
      ],
      "metadata": {
        "colab": {
          "base_uri": "https://localhost:8080/",
          "height": 387
        },
        "id": "KJUz9WhVXRYT",
        "outputId": "2dc5c8d7-be2d-49e6-e842-b3456a5172b9"
      },
      "execution_count": 86,
      "outputs": [
        {
          "output_type": "display_data",
          "data": {
            "text/plain": [
              "<Figure size 360x432 with 1 Axes>"
            ],
            "image/png": "[encoded data removed]"
          },
          "metadata": {
            "needs_background": "light"
          }
        }
      ]
    },
    {
      "cell_type": "code",
      "source": [
        "ABS_SHAP(groupby_df_wtwt, \"refute\", 20,\"WT-WT target\")\n"
      ],
      "metadata": {
        "colab": {
          "base_uri": "https://localhost:8080/",
          "height": 387
        },
        "id": "IrSsIub1XULV",
        "outputId": "322321a3-098f-43d1-f726-7834c044f897"
      },
      "execution_count": 87,
      "outputs": [
        {
          "output_type": "display_data",
          "data": {
            "text/plain": [
              "<Figure size 360x432 with 1 Axes>"
            ],
            "image/png": "[encoded data removed]"
          },
          "metadata": {
            "needs_background": "light"
          }
        }
      ]
    },
    {
      "cell_type": "code",
      "source": [
        "ABS_SHAP(groupby_df_wtwt, \"comment\", 20,\"WT-WT target\")\n"
      ],
      "metadata": {
        "id": "u3j78i_AjpZB",
        "outputId": "6b7125c1-2e34-489d-931b-3e0779802dd3",
        "colab": {
          "base_uri": "https://localhost:8080/",
          "height": 387
        }
      },
      "execution_count": 88,
      "outputs": [
        {
          "output_type": "display_data",
          "data": {
            "text/plain": [
              "<Figure size 360x432 with 1 Axes>"
            ],
            "image/png": "[encoded data removed]"
          },
          "metadata": {
            "needs_background": "light"
          }
        }
      ]
    },
    {
      "cell_type": "code",
      "source": [
        "ABS_SHAP(groupby_df_wtwt, \"unrelated\", 20,\"WT-WT target\")\n"
      ],
      "metadata": {
        "id": "imKXJEYUjrL7",
        "outputId": "6e5939a2-9ebf-4778-e68e-3d04265cba02",
        "colab": {
          "base_uri": "https://localhost:8080/",
          "height": 387
        }
      },
      "execution_count": 89,
      "outputs": [
        {
          "output_type": "display_data",
          "data": {
            "text/plain": [
              "<Figure size 360x432 with 1 Axes>"
            ],
            "image/png": "[encoded data removed]"
          },
          "metadata": {
            "needs_background": "light"
          }
        }
      ]
    },
    {
      "cell_type": "code",
      "source": [
        "# top 10 - comment stance \n",
        "groupby_df.sort_values(\"comment\",ascending=False)[['comment']].head(10)"
      ],
      "metadata": {
        "colab": {
          "base_uri": "https://localhost:8080/",
          "height": 394
        },
        "id": "al-XvttCLVW9",
        "outputId": "08114367-412b-400a-ffeb-47984ac8a7ee"
      },
      "execution_count": null,
      "outputs": [
        {
          "output_type": "execute_result",
          "data": {
            "text/plain": [
              "                comment\n",
              "token                  \n",
              "['Reacts']     0.556610\n",
              "['reactions']  0.540658\n",
              "['Affect']     0.452303\n",
              "['Want']       0.301683\n",
              "['Advocacy']   0.297985\n",
              "['takeaways']  0.275026\n",
              "['Would']      0.255229\n",
              "['Pros']       0.246959\n",
              "['Creates']    0.245186\n",
              "['Ahead']      0.241830"
            ],
            "text/html": [
              "\n",
              "  <div id=\"df-c8198547-28f7-4546-a132-1b2b5b9f9e12\">\n",
              "    <div class=\"colab-df-container\">\n",
              "      <div>\n",
              "<style scoped>\n",
              "    .dataframe tbody tr th:only-of-type {\n",
              "        vertical-align: middle;\n",
              "    }\n",
              "\n",
              "    .dataframe tbody tr th {\n",
              "        vertical-align: top;\n",
              "    }\n",
              "\n",
              "    .dataframe thead th {\n",
              "        text-align: right;\n",
              "    }\n",
              "</style>\n",
              "<table border=\"1\" class=\"dataframe\">\n",
              "  <thead>\n",
              "    <tr style=\"text-align: right;\">\n",
              "      <th></th>\n",
              "      <th>comment</th>\n",
              "    </tr>\n",
              "    <tr>\n",
              "      <th>token</th>\n",
              "      <th></th>\n",
              "    </tr>\n",
              "  </thead>\n",
              "  <tbody>\n",
              "    <tr>\n",
              "      <th>['Reacts']</th>\n",
              "      <td>0.556610</td>\n",
              "    </tr>\n",
              "    <tr>\n",
              "      <th>['reactions']</th>\n",
              "      <td>0.540658</td>\n",
              "    </tr>\n",
              "    <tr>\n",
              "      <th>['Affect']</th>\n",
              "      <td>0.452303</td>\n",
              "    </tr>\n",
              "    <tr>\n",
              "      <th>['Want']</th>\n",
              "      <td>0.301683</td>\n",
              "    </tr>\n",
              "    <tr>\n",
              "      <th>['Advocacy']</th>\n",
              "      <td>0.297985</td>\n",
              "    </tr>\n",
              "    <tr>\n",
              "      <th>['takeaways']</th>\n",
              "      <td>0.275026</td>\n",
              "    </tr>\n",
              "    <tr>\n",
              "      <th>['Would']</th>\n",
              "      <td>0.255229</td>\n",
              "    </tr>\n",
              "    <tr>\n",
              "      <th>['Pros']</th>\n",
              "      <td>0.246959</td>\n",
              "    </tr>\n",
              "    <tr>\n",
              "      <th>['Creates']</th>\n",
              "      <td>0.245186</td>\n",
              "    </tr>\n",
              "    <tr>\n",
              "      <th>['Ahead']</th>\n",
              "      <td>0.241830</td>\n",
              "    </tr>\n",
              "  </tbody>\n",
              "</table>\n",
              "</div>\n",
              "      <button class=\"colab-df-convert\" onclick=\"convertToInteractive('df-c8198547-28f7-4546-a132-1b2b5b9f9e12')\"\n",
              "              title=\"Convert this dataframe to an interactive table.\"\n",
              "              style=\"display:none;\">\n",
              "        \n",
              "  <svg xmlns=\"http://www.w3.org/2000/svg\" height=\"24px\"viewBox=\"0 0 24 24\"\n",
              "       width=\"24px\">\n",
              "    <path d=\"M0 0h24v24H0V0z\" fill=\"none\"/>\n",
              "    <path d=\"M18.56 5.44l.94 2.06.94-2.06 2.06-.94-2.06-.94-.94-2.06-.94 2.06-2.06.94zm-11 1L8.5 8.5l.94-2.06 2.06-.94-2.06-.94L8.5 2.5l-.94 2.06-2.06.94zm10 10l.94 2.06.94-2.06 2.06-.94-2.06-.94-.94-2.06-.94 2.06-2.06.94z\"/><path d=\"M17.41 7.96l-1.37-1.37c-.4-.4-.92-.59-1.43-.59-.52 0-1.04.2-1.43.59L10.3 9.45l-7.72 7.72c-.78.78-.78 2.05 0 2.83L4 21.41c.39.39.9.59 1.41.59.51 0 1.02-.2 1.41-.59l7.78-7.78 2.81-2.81c.8-.78.8-2.07 0-2.86zM5.41 20L4 18.59l7.72-7.72 1.47 1.35L5.41 20z\"/>\n",
              "  </svg>\n",
              "      </button>\n",
              "      \n",
              "  <style>\n",
              "    .colab-df-container {\n",
              "      display:flex;\n",
              "      flex-wrap:wrap;\n",
              "      gap: 12px;\n",
              "    }\n",
              "\n",
              "    .colab-df-convert {\n",
              "      background-color: #E8F0FE;\n",
              "      border: none;\n",
              "      border-radius: 50%;\n",
              "      cursor: pointer;\n",
              "      display: none;\n",
              "      fill: #1967D2;\n",
              "      height: 32px;\n",
              "      padding: 0 0 0 0;\n",
              "      width: 32px;\n",
              "    }\n",
              "\n",
              "    .colab-df-convert:hover {\n",
              "      background-color: #E2EBFA;\n",
              "      box-shadow: 0px 1px 2px rgba(60, 64, 67, 0.3), 0px 1px 3px 1px rgba(60, 64, 67, 0.15);\n",
              "      fill: #174EA6;\n",
              "    }\n",
              "\n",
              "    [theme=dark] .colab-df-convert {\n",
              "      background-color: #3B4455;\n",
              "      fill: #D2E3FC;\n",
              "    }\n",
              "\n",
              "    [theme=dark] .colab-df-convert:hover {\n",
              "      background-color: #434B5C;\n",
              "      box-shadow: 0px 1px 3px 1px rgba(0, 0, 0, 0.15);\n",
              "      filter: drop-shadow(0px 1px 2px rgba(0, 0, 0, 0.3));\n",
              "      fill: #FFFFFF;\n",
              "    }\n",
              "  </style>\n",
              "\n",
              "      <script>\n",
              "        const buttonEl =\n",
              "          document.querySelector('#df-c8198547-28f7-4546-a132-1b2b5b9f9e12 button.colab-df-convert');\n",
              "        buttonEl.style.display =\n",
              "          google.colab.kernel.accessAllowed ? 'block' : 'none';\n",
              "\n",
              "        async function convertToInteractive(key) {\n",
              "          const element = document.querySelector('#df-c8198547-28f7-4546-a132-1b2b5b9f9e12');\n",
              "          const dataTable =\n",
              "            await google.colab.kernel.invokeFunction('convertToInteractive',\n",
              "                                                     [key], {});\n",
              "          if (!dataTable) return;\n",
              "\n",
              "          const docLinkHtml = 'Like what you see? Visit the ' +\n",
              "            '<a target=\"_blank\" href=https://colab.research.google.com/notebooks/data_table.ipynb>data table notebook</a>'\n",
              "            + ' to learn more about interactive tables.';\n",
              "          element.innerHTML = '';\n",
              "          dataTable['output_type'] = 'display_data';\n",
              "          await google.colab.output.renderOutput(dataTable, element);\n",
              "          const docLink = document.createElement('div');\n",
              "          docLink.innerHTML = docLinkHtml;\n",
              "          element.appendChild(docLink);\n",
              "        }\n",
              "      </script>\n",
              "    </div>\n",
              "  </div>\n",
              "  "
            ]
          },
          "metadata": {},
          "execution_count": 72
        }
      ]
    },
    {
      "cell_type": "code",
      "source": [
        "# top 10 - support stance \n",
        "groupby_df.sort_values(\"support\",ascending=False)[['support']].head(20)"
      ],
      "metadata": {
        "colab": {
          "base_uri": "https://localhost:8080/",
          "height": 707
        },
        "id": "w3-wnFdvLVyB",
        "outputId": "9695584c-7dc9-4dca-8cbe-3f79cada181b"
      },
      "execution_count": null,
      "outputs": [
        {
          "output_type": "execute_result",
          "data": {
            "text/plain": [
              "                 support\n",
              "token                   \n",
              "['Passes']      1.520085\n",
              "['nears']       1.469554\n",
              "['Approval']    1.422274\n",
              "['approves']    1.214439\n",
              "['Approved']    0.972900\n",
              "['Close']       0.728120\n",
              "['clears']      0.709736\n",
              "['wins']        0.647626\n",
              "['settled']     0.625990\n",
              "['VOTES']       0.619535\n",
              "['Reportedly']  0.590932\n",
              "['approve']     0.571880\n",
              "['green']       0.569083\n",
              "['Confident']   0.554650\n",
              "['grants']      0.536974\n",
              "['Wins']        0.530928\n",
              "['BILLION']     0.525667\n",
              "['Backs']       0.519299\n",
              "['Likely']      0.509331\n",
              "['Begins']      0.501156"
            ],
            "text/html": [
              "\n",
              "  <div id=\"df-f90c6ef0-872d-43c3-bcd2-15da90207729\">\n",
              "    <div class=\"colab-df-container\">\n",
              "      <div>\n",
              "<style scoped>\n",
              "    .dataframe tbody tr th:only-of-type {\n",
              "        vertical-align: middle;\n",
              "    }\n",
              "\n",
              "    .dataframe tbody tr th {\n",
              "        vertical-align: top;\n",
              "    }\n",
              "\n",
              "    .dataframe thead th {\n",
              "        text-align: right;\n",
              "    }\n",
              "</style>\n",
              "<table border=\"1\" class=\"dataframe\">\n",
              "  <thead>\n",
              "    <tr style=\"text-align: right;\">\n",
              "      <th></th>\n",
              "      <th>support</th>\n",
              "    </tr>\n",
              "    <tr>\n",
              "      <th>token</th>\n",
              "      <th></th>\n",
              "    </tr>\n",
              "  </thead>\n",
              "  <tbody>\n",
              "    <tr>\n",
              "      <th>['Passes']</th>\n",
              "      <td>1.520085</td>\n",
              "    </tr>\n",
              "    <tr>\n",
              "      <th>['nears']</th>\n",
              "      <td>1.469554</td>\n",
              "    </tr>\n",
              "    <tr>\n",
              "      <th>['Approval']</th>\n",
              "      <td>1.422274</td>\n",
              "    </tr>\n",
              "    <tr>\n",
              "      <th>['approves']</th>\n",
              "      <td>1.214439</td>\n",
              "    </tr>\n",
              "    <tr>\n",
              "      <th>['Approved']</th>\n",
              "      <td>0.972900</td>\n",
              "    </tr>\n",
              "    <tr>\n",
              "      <th>['Close']</th>\n",
              "      <td>0.728120</td>\n",
              "    </tr>\n",
              "    <tr>\n",
              "      <th>['clears']</th>\n",
              "      <td>0.709736</td>\n",
              "    </tr>\n",
              "    <tr>\n",
              "      <th>['wins']</th>\n",
              "      <td>0.647626</td>\n",
              "    </tr>\n",
              "    <tr>\n",
              "      <th>['settled']</th>\n",
              "      <td>0.625990</td>\n",
              "    </tr>\n",
              "    <tr>\n",
              "      <th>['VOTES']</th>\n",
              "      <td>0.619535</td>\n",
              "    </tr>\n",
              "    <tr>\n",
              "      <th>['Reportedly']</th>\n",
              "      <td>0.590932</td>\n",
              "    </tr>\n",
              "    <tr>\n",
              "      <th>['approve']</th>\n",
              "      <td>0.571880</td>\n",
              "    </tr>\n",
              "    <tr>\n",
              "      <th>['green']</th>\n",
              "      <td>0.569083</td>\n",
              "    </tr>\n",
              "    <tr>\n",
              "      <th>['Confident']</th>\n",
              "      <td>0.554650</td>\n",
              "    </tr>\n",
              "    <tr>\n",
              "      <th>['grants']</th>\n",
              "      <td>0.536974</td>\n",
              "    </tr>\n",
              "    <tr>\n",
              "      <th>['Wins']</th>\n",
              "      <td>0.530928</td>\n",
              "    </tr>\n",
              "    <tr>\n",
              "      <th>['BILLION']</th>\n",
              "      <td>0.525667</td>\n",
              "    </tr>\n",
              "    <tr>\n",
              "      <th>['Backs']</th>\n",
              "      <td>0.519299</td>\n",
              "    </tr>\n",
              "    <tr>\n",
              "      <th>['Likely']</th>\n",
              "      <td>0.509331</td>\n",
              "    </tr>\n",
              "    <tr>\n",
              "      <th>['Begins']</th>\n",
              "      <td>0.501156</td>\n",
              "    </tr>\n",
              "  </tbody>\n",
              "</table>\n",
              "</div>\n",
              "      <button class=\"colab-df-convert\" onclick=\"convertToInteractive('df-f90c6ef0-872d-43c3-bcd2-15da90207729')\"\n",
              "              title=\"Convert this dataframe to an interactive table.\"\n",
              "              style=\"display:none;\">\n",
              "        \n",
              "  <svg xmlns=\"http://www.w3.org/2000/svg\" height=\"24px\"viewBox=\"0 0 24 24\"\n",
              "       width=\"24px\">\n",
              "    <path d=\"M0 0h24v24H0V0z\" fill=\"none\"/>\n",
              "    <path d=\"M18.56 5.44l.94 2.06.94-2.06 2.06-.94-2.06-.94-.94-2.06-.94 2.06-2.06.94zm-11 1L8.5 8.5l.94-2.06 2.06-.94-2.06-.94L8.5 2.5l-.94 2.06-2.06.94zm10 10l.94 2.06.94-2.06 2.06-.94-2.06-.94-.94-2.06-.94 2.06-2.06.94z\"/><path d=\"M17.41 7.96l-1.37-1.37c-.4-.4-.92-.59-1.43-.59-.52 0-1.04.2-1.43.59L10.3 9.45l-7.72 7.72c-.78.78-.78 2.05 0 2.83L4 21.41c.39.39.9.59 1.41.59.51 0 1.02-.2 1.41-.59l7.78-7.78 2.81-2.81c.8-.78.8-2.07 0-2.86zM5.41 20L4 18.59l7.72-7.72 1.47 1.35L5.41 20z\"/>\n",
              "  </svg>\n",
              "      </button>\n",
              "      \n",
              "  <style>\n",
              "    .colab-df-container {\n",
              "      display:flex;\n",
              "      flex-wrap:wrap;\n",
              "      gap: 12px;\n",
              "    }\n",
              "\n",
              "    .colab-df-convert {\n",
              "      background-color: #E8F0FE;\n",
              "      border: none;\n",
              "      border-radius: 50%;\n",
              "      cursor: pointer;\n",
              "      display: none;\n",
              "      fill: #1967D2;\n",
              "      height: 32px;\n",
              "      padding: 0 0 0 0;\n",
              "      width: 32px;\n",
              "    }\n",
              "\n",
              "    .colab-df-convert:hover {\n",
              "      background-color: #E2EBFA;\n",
              "      box-shadow: 0px 1px 2px rgba(60, 64, 67, 0.3), 0px 1px 3px 1px rgba(60, 64, 67, 0.15);\n",
              "      fill: #174EA6;\n",
              "    }\n",
              "\n",
              "    [theme=dark] .colab-df-convert {\n",
              "      background-color: #3B4455;\n",
              "      fill: #D2E3FC;\n",
              "    }\n",
              "\n",
              "    [theme=dark] .colab-df-convert:hover {\n",
              "      background-color: #434B5C;\n",
              "      box-shadow: 0px 1px 3px 1px rgba(0, 0, 0, 0.15);\n",
              "      filter: drop-shadow(0px 1px 2px rgba(0, 0, 0, 0.3));\n",
              "      fill: #FFFFFF;\n",
              "    }\n",
              "  </style>\n",
              "\n",
              "      <script>\n",
              "        const buttonEl =\n",
              "          document.querySelector('#df-f90c6ef0-872d-43c3-bcd2-15da90207729 button.colab-df-convert');\n",
              "        buttonEl.style.display =\n",
              "          google.colab.kernel.accessAllowed ? 'block' : 'none';\n",
              "\n",
              "        async function convertToInteractive(key) {\n",
              "          const element = document.querySelector('#df-f90c6ef0-872d-43c3-bcd2-15da90207729');\n",
              "          const dataTable =\n",
              "            await google.colab.kernel.invokeFunction('convertToInteractive',\n",
              "                                                     [key], {});\n",
              "          if (!dataTable) return;\n",
              "\n",
              "          const docLinkHtml = 'Like what you see? Visit the ' +\n",
              "            '<a target=\"_blank\" href=https://colab.research.google.com/notebooks/data_table.ipynb>data table notebook</a>'\n",
              "            + ' to learn more about interactive tables.';\n",
              "          element.innerHTML = '';\n",
              "          dataTable['output_type'] = 'display_data';\n",
              "          await google.colab.output.renderOutput(dataTable, element);\n",
              "          const docLink = document.createElement('div');\n",
              "          docLink.innerHTML = docLinkHtml;\n",
              "          element.appendChild(docLink);\n",
              "        }\n",
              "      </script>\n",
              "    </div>\n",
              "  </div>\n",
              "  "
            ]
          },
          "metadata": {},
          "execution_count": 76
        }
      ]
    },
    {
      "cell_type": "code",
      "source": [
        "# top 10 - refute stance \n",
        "groupby_df.sort_values(\"refute\",ascending=False)[['refute']].head(20)"
      ],
      "metadata": {
        "colab": {
          "base_uri": "https://localhost:8080/",
          "height": 707
        },
        "id": "MXp6RsYQLYW2",
        "outputId": "ec5fba42-de20-4711-ab5e-ea40822aab25"
      },
      "execution_count": null,
      "outputs": [
        {
          "output_type": "execute_result",
          "data": {
            "text/plain": [
              "                  refute\n",
              "token                   \n",
              "['Blocks']      2.600089\n",
              "['rejects']     1.698239\n",
              "['Block']       1.098688\n",
              "['BLOCK']       1.033419\n",
              "['Blocking']    1.032048\n",
              "['Faces']       1.004886\n",
              "['block']       0.931564\n",
              "['oppose']      0.817602\n",
              "['opposition']  0.801427\n",
              "['opposes']     0.744692\n",
              "['Regulatory']  0.737994\n",
              "['D.C.']        0.676843\n",
              "['reject']      0.640266\n",
              "['warn']        0.600875\n",
              "['blocking']    0.594829\n",
              "['rejecting']   0.550165\n",
              "['Doesnt']      0.541792\n",
              "['opposing']    0.538746\n",
              "['rips']        0.534743\n",
              "['Challenges']  0.533447"
            ],
            "text/html": [
              "\n",
              "  <div id=\"df-ce5f55c9-b374-4041-a1a1-b0e519750d4c\">\n",
              "    <div class=\"colab-df-container\">\n",
              "      <div>\n",
              "<style scoped>\n",
              "    .dataframe tbody tr th:only-of-type {\n",
              "        vertical-align: middle;\n",
              "    }\n",
              "\n",
              "    .dataframe tbody tr th {\n",
              "        vertical-align: top;\n",
              "    }\n",
              "\n",
              "    .dataframe thead th {\n",
              "        text-align: right;\n",
              "    }\n",
              "</style>\n",
              "<table border=\"1\" class=\"dataframe\">\n",
              "  <thead>\n",
              "    <tr style=\"text-align: right;\">\n",
              "      <th></th>\n",
              "      <th>refute</th>\n",
              "    </tr>\n",
              "    <tr>\n",
              "      <th>token</th>\n",
              "      <th></th>\n",
              "    </tr>\n",
              "  </thead>\n",
              "  <tbody>\n",
              "    <tr>\n",
              "      <th>['Blocks']</th>\n",
              "      <td>2.600089</td>\n",
              "    </tr>\n",
              "    <tr>\n",
              "      <th>['rejects']</th>\n",
              "      <td>1.698239</td>\n",
              "    </tr>\n",
              "    <tr>\n",
              "      <th>['Block']</th>\n",
              "      <td>1.098688</td>\n",
              "    </tr>\n",
              "    <tr>\n",
              "      <th>['BLOCK']</th>\n",
              "      <td>1.033419</td>\n",
              "    </tr>\n",
              "    <tr>\n",
              "      <th>['Blocking']</th>\n",
              "      <td>1.032048</td>\n",
              "    </tr>\n",
              "    <tr>\n",
              "      <th>['Faces']</th>\n",
              "      <td>1.004886</td>\n",
              "    </tr>\n",
              "    <tr>\n",
              "      <th>['block']</th>\n",
              "      <td>0.931564</td>\n",
              "    </tr>\n",
              "    <tr>\n",
              "      <th>['oppose']</th>\n",
              "      <td>0.817602</td>\n",
              "    </tr>\n",
              "    <tr>\n",
              "      <th>['opposition']</th>\n",
              "      <td>0.801427</td>\n",
              "    </tr>\n",
              "    <tr>\n",
              "      <th>['opposes']</th>\n",
              "      <td>0.744692</td>\n",
              "    </tr>\n",
              "    <tr>\n",
              "      <th>['Regulatory']</th>\n",
              "      <td>0.737994</td>\n",
              "    </tr>\n",
              "    <tr>\n",
              "      <th>['D.C.']</th>\n",
              "      <td>0.676843</td>\n",
              "    </tr>\n",
              "    <tr>\n",
              "      <th>['reject']</th>\n",
              "      <td>0.640266</td>\n",
              "    </tr>\n",
              "    <tr>\n",
              "      <th>['warn']</th>\n",
              "      <td>0.600875</td>\n",
              "    </tr>\n",
              "    <tr>\n",
              "      <th>['blocking']</th>\n",
              "      <td>0.594829</td>\n",
              "    </tr>\n",
              "    <tr>\n",
              "      <th>['rejecting']</th>\n",
              "      <td>0.550165</td>\n",
              "    </tr>\n",
              "    <tr>\n",
              "      <th>['Doesnt']</th>\n",
              "      <td>0.541792</td>\n",
              "    </tr>\n",
              "    <tr>\n",
              "      <th>['opposing']</th>\n",
              "      <td>0.538746</td>\n",
              "    </tr>\n",
              "    <tr>\n",
              "      <th>['rips']</th>\n",
              "      <td>0.534743</td>\n",
              "    </tr>\n",
              "    <tr>\n",
              "      <th>['Challenges']</th>\n",
              "      <td>0.533447</td>\n",
              "    </tr>\n",
              "  </tbody>\n",
              "</table>\n",
              "</div>\n",
              "      <button class=\"colab-df-convert\" onclick=\"convertToInteractive('df-ce5f55c9-b374-4041-a1a1-b0e519750d4c')\"\n",
              "              title=\"Convert this dataframe to an interactive table.\"\n",
              "              style=\"display:none;\">\n",
              "        \n",
              "  <svg xmlns=\"http://www.w3.org/2000/svg\" height=\"24px\"viewBox=\"0 0 24 24\"\n",
              "       width=\"24px\">\n",
              "    <path d=\"M0 0h24v24H0V0z\" fill=\"none\"/>\n",
              "    <path d=\"M18.56 5.44l.94 2.06.94-2.06 2.06-.94-2.06-.94-.94-2.06-.94 2.06-2.06.94zm-11 1L8.5 8.5l.94-2.06 2.06-.94-2.06-.94L8.5 2.5l-.94 2.06-2.06.94zm10 10l.94 2.06.94-2.06 2.06-.94-2.06-.94-.94-2.06-.94 2.06-2.06.94z\"/><path d=\"M17.41 7.96l-1.37-1.37c-.4-.4-.92-.59-1.43-.59-.52 0-1.04.2-1.43.59L10.3 9.45l-7.72 7.72c-.78.78-.78 2.05 0 2.83L4 21.41c.39.39.9.59 1.41.59.51 0 1.02-.2 1.41-.59l7.78-7.78 2.81-2.81c.8-.78.8-2.07 0-2.86zM5.41 20L4 18.59l7.72-7.72 1.47 1.35L5.41 20z\"/>\n",
              "  </svg>\n",
              "      </button>\n",
              "      \n",
              "  <style>\n",
              "    .colab-df-container {\n",
              "      display:flex;\n",
              "      flex-wrap:wrap;\n",
              "      gap: 12px;\n",
              "    }\n",
              "\n",
              "    .colab-df-convert {\n",
              "      background-color: #E8F0FE;\n",
              "      border: none;\n",
              "      border-radius: 50%;\n",
              "      cursor: pointer;\n",
              "      display: none;\n",
              "      fill: #1967D2;\n",
              "      height: 32px;\n",
              "      padding: 0 0 0 0;\n",
              "      width: 32px;\n",
              "    }\n",
              "\n",
              "    .colab-df-convert:hover {\n",
              "      background-color: #E2EBFA;\n",
              "      box-shadow: 0px 1px 2px rgba(60, 64, 67, 0.3), 0px 1px 3px 1px rgba(60, 64, 67, 0.15);\n",
              "      fill: #174EA6;\n",
              "    }\n",
              "\n",
              "    [theme=dark] .colab-df-convert {\n",
              "      background-color: #3B4455;\n",
              "      fill: #D2E3FC;\n",
              "    }\n",
              "\n",
              "    [theme=dark] .colab-df-convert:hover {\n",
              "      background-color: #434B5C;\n",
              "      box-shadow: 0px 1px 3px 1px rgba(0, 0, 0, 0.15);\n",
              "      filter: drop-shadow(0px 1px 2px rgba(0, 0, 0, 0.3));\n",
              "      fill: #FFFFFF;\n",
              "    }\n",
              "  </style>\n",
              "\n",
              "      <script>\n",
              "        const buttonEl =\n",
              "          document.querySelector('#df-ce5f55c9-b374-4041-a1a1-b0e519750d4c button.colab-df-convert');\n",
              "        buttonEl.style.display =\n",
              "          google.colab.kernel.accessAllowed ? 'block' : 'none';\n",
              "\n",
              "        async function convertToInteractive(key) {\n",
              "          const element = document.querySelector('#df-ce5f55c9-b374-4041-a1a1-b0e519750d4c');\n",
              "          const dataTable =\n",
              "            await google.colab.kernel.invokeFunction('convertToInteractive',\n",
              "                                                     [key], {});\n",
              "          if (!dataTable) return;\n",
              "\n",
              "          const docLinkHtml = 'Like what you see? Visit the ' +\n",
              "            '<a target=\"_blank\" href=https://colab.research.google.com/notebooks/data_table.ipynb>data table notebook</a>'\n",
              "            + ' to learn more about interactive tables.';\n",
              "          element.innerHTML = '';\n",
              "          dataTable['output_type'] = 'display_data';\n",
              "          await google.colab.output.renderOutput(dataTable, element);\n",
              "          const docLink = document.createElement('div');\n",
              "          docLink.innerHTML = docLinkHtml;\n",
              "          element.appendChild(docLink);\n",
              "        }\n",
              "      </script>\n",
              "    </div>\n",
              "  </div>\n",
              "  "
            ]
          },
          "metadata": {},
          "execution_count": 77
        }
      ]
    },
    {
      "cell_type": "code",
      "source": [
        "# top 10 - unrelated stance \n",
        "groupby_df.sort_values(\"unrelated\",ascending=False)[['unrelated']].head(10)"
      ],
      "metadata": {
        "colab": {
          "base_uri": "https://localhost:8080/",
          "height": 394
        },
        "id": "KQNYXD4cLZm2",
        "outputId": "1aea6a67-1582-453b-c3b1-c73123ddede1"
      },
      "execution_count": null,
      "outputs": [
        {
          "output_type": "execute_result",
          "data": {
            "text/plain": [
              "                unrelated\n",
              "token                    \n",
              "['malaysia']     0.554552\n",
              "['1000']         0.527161\n",
              "['Settlement']   0.398674\n",
              "['terminated']   0.372665\n",
              "['Consulting']   0.367472\n",
              "['hacking']      0.343690\n",
              "['solution']     0.326888\n",
              "['Wealth']       0.324397\n",
              "['suppliers']    0.316088\n",
              "['database']     0.302100"
            ],
            "text/html": [
              "\n",
              "  <div id=\"df-7cec696e-0f09-4527-bf58-464866e25cd3\">\n",
              "    <div class=\"colab-df-container\">\n",
              "      <div>\n",
              "<style scoped>\n",
              "    .dataframe tbody tr th:only-of-type {\n",
              "        vertical-align: middle;\n",
              "    }\n",
              "\n",
              "    .dataframe tbody tr th {\n",
              "        vertical-align: top;\n",
              "    }\n",
              "\n",
              "    .dataframe thead th {\n",
              "        text-align: right;\n",
              "    }\n",
              "</style>\n",
              "<table border=\"1\" class=\"dataframe\">\n",
              "  <thead>\n",
              "    <tr style=\"text-align: right;\">\n",
              "      <th></th>\n",
              "      <th>unrelated</th>\n",
              "    </tr>\n",
              "    <tr>\n",
              "      <th>token</th>\n",
              "      <th></th>\n",
              "    </tr>\n",
              "  </thead>\n",
              "  <tbody>\n",
              "    <tr>\n",
              "      <th>['malaysia']</th>\n",
              "      <td>0.554552</td>\n",
              "    </tr>\n",
              "    <tr>\n",
              "      <th>['1000']</th>\n",
              "      <td>0.527161</td>\n",
              "    </tr>\n",
              "    <tr>\n",
              "      <th>['Settlement']</th>\n",
              "      <td>0.398674</td>\n",
              "    </tr>\n",
              "    <tr>\n",
              "      <th>['terminated']</th>\n",
              "      <td>0.372665</td>\n",
              "    </tr>\n",
              "    <tr>\n",
              "      <th>['Consulting']</th>\n",
              "      <td>0.367472</td>\n",
              "    </tr>\n",
              "    <tr>\n",
              "      <th>['hacking']</th>\n",
              "      <td>0.343690</td>\n",
              "    </tr>\n",
              "    <tr>\n",
              "      <th>['solution']</th>\n",
              "      <td>0.326888</td>\n",
              "    </tr>\n",
              "    <tr>\n",
              "      <th>['Wealth']</th>\n",
              "      <td>0.324397</td>\n",
              "    </tr>\n",
              "    <tr>\n",
              "      <th>['suppliers']</th>\n",
              "      <td>0.316088</td>\n",
              "    </tr>\n",
              "    <tr>\n",
              "      <th>['database']</th>\n",
              "      <td>0.302100</td>\n",
              "    </tr>\n",
              "  </tbody>\n",
              "</table>\n",
              "</div>\n",
              "      <button class=\"colab-df-convert\" onclick=\"convertToInteractive('df-7cec696e-0f09-4527-bf58-464866e25cd3')\"\n",
              "              title=\"Convert this dataframe to an interactive table.\"\n",
              "              style=\"display:none;\">\n",
              "        \n",
              "  <svg xmlns=\"http://www.w3.org/2000/svg\" height=\"24px\"viewBox=\"0 0 24 24\"\n",
              "       width=\"24px\">\n",
              "    <path d=\"M0 0h24v24H0V0z\" fill=\"none\"/>\n",
              "    <path d=\"M18.56 5.44l.94 2.06.94-2.06 2.06-.94-2.06-.94-.94-2.06-.94 2.06-2.06.94zm-11 1L8.5 8.5l.94-2.06 2.06-.94-2.06-.94L8.5 2.5l-.94 2.06-2.06.94zm10 10l.94 2.06.94-2.06 2.06-.94-2.06-.94-.94-2.06-.94 2.06-2.06.94z\"/><path d=\"M17.41 7.96l-1.37-1.37c-.4-.4-.92-.59-1.43-.59-.52 0-1.04.2-1.43.59L10.3 9.45l-7.72 7.72c-.78.78-.78 2.05 0 2.83L4 21.41c.39.39.9.59 1.41.59.51 0 1.02-.2 1.41-.59l7.78-7.78 2.81-2.81c.8-.78.8-2.07 0-2.86zM5.41 20L4 18.59l7.72-7.72 1.47 1.35L5.41 20z\"/>\n",
              "  </svg>\n",
              "      </button>\n",
              "      \n",
              "  <style>\n",
              "    .colab-df-container {\n",
              "      display:flex;\n",
              "      flex-wrap:wrap;\n",
              "      gap: 12px;\n",
              "    }\n",
              "\n",
              "    .colab-df-convert {\n",
              "      background-color: #E8F0FE;\n",
              "      border: none;\n",
              "      border-radius: 50%;\n",
              "      cursor: pointer;\n",
              "      display: none;\n",
              "      fill: #1967D2;\n",
              "      height: 32px;\n",
              "      padding: 0 0 0 0;\n",
              "      width: 32px;\n",
              "    }\n",
              "\n",
              "    .colab-df-convert:hover {\n",
              "      background-color: #E2EBFA;\n",
              "      box-shadow: 0px 1px 2px rgba(60, 64, 67, 0.3), 0px 1px 3px 1px rgba(60, 64, 67, 0.15);\n",
              "      fill: #174EA6;\n",
              "    }\n",
              "\n",
              "    [theme=dark] .colab-df-convert {\n",
              "      background-color: #3B4455;\n",
              "      fill: #D2E3FC;\n",
              "    }\n",
              "\n",
              "    [theme=dark] .colab-df-convert:hover {\n",
              "      background-color: #434B5C;\n",
              "      box-shadow: 0px 1px 3px 1px rgba(0, 0, 0, 0.15);\n",
              "      filter: drop-shadow(0px 1px 2px rgba(0, 0, 0, 0.3));\n",
              "      fill: #FFFFFF;\n",
              "    }\n",
              "  </style>\n",
              "\n",
              "      <script>\n",
              "        const buttonEl =\n",
              "          document.querySelector('#df-7cec696e-0f09-4527-bf58-464866e25cd3 button.colab-df-convert');\n",
              "        buttonEl.style.display =\n",
              "          google.colab.kernel.accessAllowed ? 'block' : 'none';\n",
              "\n",
              "        async function convertToInteractive(key) {\n",
              "          const element = document.querySelector('#df-7cec696e-0f09-4527-bf58-464866e25cd3');\n",
              "          const dataTable =\n",
              "            await google.colab.kernel.invokeFunction('convertToInteractive',\n",
              "                                                     [key], {});\n",
              "          if (!dataTable) return;\n",
              "\n",
              "          const docLinkHtml = 'Like what you see? Visit the ' +\n",
              "            '<a target=\"_blank\" href=https://colab.research.google.com/notebooks/data_table.ipynb>data table notebook</a>'\n",
              "            + ' to learn more about interactive tables.';\n",
              "          element.innerHTML = '';\n",
              "          dataTable['output_type'] = 'display_data';\n",
              "          await google.colab.output.renderOutput(dataTable, element);\n",
              "          const docLink = document.createElement('div');\n",
              "          docLink.innerHTML = docLinkHtml;\n",
              "          element.appendChild(docLink);\n",
              "        }\n",
              "      </script>\n",
              "    </div>\n",
              "  </div>\n",
              "  "
            ]
          },
          "metadata": {},
          "execution_count": 75
        }
      ]
    },
    {
      "cell_type": "code",
      "source": [
        ""
      ],
      "metadata": {
        "id": "YSktWxCVT8y4"
      },
      "execution_count": null,
      "outputs": []
    },
    {
      "cell_type": "code",
      "source": [
        ""
      ],
      "metadata": {
        "id": "fvZGacv1MHrQ"
      },
      "execution_count": null,
      "outputs": []
    },
    {
      "cell_type": "markdown",
      "source": [
        "## import predictions"
      ],
      "metadata": {
        "id": "imW7I7VmhOwB"
      }
    },
    {
      "cell_type": "code",
      "source": [
        "predictions_path = \"/content/gdrive/MyDrive/NLP Stance Detection/Code_Kaushal/saves/wtwt_CI_ESRX_target/model.predictions\"\n",
        "\n",
        "with open(predictions_path, 'r') as f:\n",
        "  data = json.load(f)\n"
      ],
      "metadata": {
        "id": "l10FNgZpez_6"
      },
      "execution_count": null,
      "outputs": []
    },
    {
      "cell_type": "code",
      "source": [
        "data['class'][:4]"
      ],
      "metadata": {
        "colab": {
          "base_uri": "https://localhost:8080/"
        },
        "id": "itIvnCyCfBH6",
        "outputId": "b07180ad-6a01-4c52-d3d8-ecce93408068"
      },
      "execution_count": null,
      "outputs": [
        {
          "output_type": "execute_result",
          "data": {
            "text/plain": [
              "[2, 2, 0, 0]"
            ]
          },
          "metadata": {},
          "execution_count": 58
        }
      ]
    },
    {
      "cell_type": "code",
      "source": [
        "# import predictions\n",
        "predictions_path = \"/content/gdrive/MyDrive/NLP Stance Detection/Code_Kaushal/saves/wtwt_CI_ESRX_target/model.predictions\"\n",
        "\n",
        "def generate_shap_df(filepath):\n",
        "  line_data = json.loads(line)\n",
        "  with open(filepath) as f:\n",
        "    data = json.load(f)\n",
        "  print(data)\n",
        "\n",
        "  # shap_df  = pd.DataFrame()\n",
        "  # for line in lines:\n",
        "  #   print(line)\n",
        "  #   # dictionary = dict()\n",
        "  #   if line != '':\n",
        "  #     line_data = json.loads(line)\n",
        "  #     # print(line_data.keys())\n",
        "  #     print(line_data)\n",
        "  #     line_data_df = pd.DataFrame.from_dict(line_data[\"tokens\"])\n",
        "  #     # print(line_data_df)\n",
        "  #     if len(shap_df) == 0:\n",
        "  #       shap_df = line_data_df\n",
        "  #     else:\n",
        "  #       shap_df.append(line_data_df)\n",
        "  #   # shap_df = shap_df.sort_values(\"token\")\n",
        "  # return shap_df"
      ],
      "metadata": {
        "id": "faBxwLLraZii"
      },
      "execution_count": null,
      "outputs": []
    },
    {
      "cell_type": "code",
      "source": [
        ""
      ],
      "metadata": {
        "id": "z135ttiybnsY"
      },
      "execution_count": null,
      "outputs": []
    }
  ]
}