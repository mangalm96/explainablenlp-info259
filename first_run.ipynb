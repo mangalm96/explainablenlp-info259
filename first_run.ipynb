{
  "nbformat": 4,
  "nbformat_minor": 0,
  "metadata": {
    "colab": {
      "name": "first_run.ipynb",
      "provenance": [],
      "authorship_tag": "ABX9TyN4Mk5qf5qaKVPdVFio/BC/",
      "include_colab_link": true
    },
    "kernelspec": {
      "name": "python3",
      "display_name": "Python 3"
    },
    "language_info": {
      "name": "python"
    }
  },
  "cells": [
    {
      "cell_type": "markdown",
      "metadata": {
        "id": "view-in-github",
        "colab_type": "text"
      },
      "source": [
        "<a href=\"https://colab.research.google.com/github/mangalm96/explainablenlp-info259/blob/main/first_run.ipynb\" target=\"_parent\"><img src=\"https://colab.research.google.com/assets/colab-badge.svg\" alt=\"Open In Colab\"/></a>"
      ]
    },
    {
      "cell_type": "code",
      "execution_count": 1,
      "metadata": {
        "colab": {
          "base_uri": "https://localhost:8080/"
        },
        "id": "wr1yrxJnZNlT",
        "outputId": "a716a835-894a-4b1f-e1dd-a58a2eb215af"
      },
      "outputs": [
        {
          "output_type": "stream",
          "name": "stdout",
          "text": [
            "Mounted at /content/gdrive\n"
          ]
        }
      ],
      "source": [
        "from google.colab import drive\n",
        "drive.mount('/content/gdrive')"
      ]
    },
    {
      "cell_type": "code",
      "source": [
        "%cd gdrive/MyDrive/NLP Stance Detection/xai_atanasova/WTWT"
      ],
      "metadata": {
        "colab": {
          "base_uri": "https://localhost:8080/"
        },
        "id": "o6s4Hh44Az0u",
        "outputId": "23ef22bb-d6c9-4369-9d3d-1d7793ee049c"
      },
      "execution_count": null,
      "outputs": [
        {
          "output_type": "stream",
          "name": "stdout",
          "text": [
            "/content/gdrive/MyDrive/NLP Stance Detection/xai_atanasova/WTWT\n"
          ]
        }
      ]
    },
    {
      "cell_type": "markdown",
      "source": [
        "## run LIME interpret on the saved pythorch model "
      ],
      "metadata": {
        "id": "KY-8Ylo8Bfqv"
      }
    },
    {
      "cell_type": "code",
      "source": [
        "!pip install captum==0.2.0\n",
        "!pip install python-papi==5.5.1.2\n",
        "!pip install lime==0.2.0.0"
      ],
      "metadata": {
        "colab": {
          "base_uri": "https://localhost:8080/",
          "height": 1000
        },
        "id": "BViNDw1PJ5HF",
        "outputId": "d24b8f14-361b-4bcc-9800-04b60c8d44e3"
      },
      "execution_count": 2,
      "outputs": [
        {
          "output_type": "stream",
          "name": "stdout",
          "text": [
            "Collecting captum==0.2.0\n",
            "  Downloading captum-0.2.0-py3-none-any.whl (1.4 MB)\n",
            "\u001b[?25l\r\u001b[K     |▎                               | 10 kB 17.3 MB/s eta 0:00:01\r\u001b[K     |▌                               | 20 kB 21.0 MB/s eta 0:00:01\r\u001b[K     |▊                               | 30 kB 25.9 MB/s eta 0:00:01\r\u001b[K     |█                               | 40 kB 17.5 MB/s eta 0:00:01\r\u001b[K     |█▏                              | 51 kB 6.4 MB/s eta 0:00:01\r\u001b[K     |█▍                              | 61 kB 7.4 MB/s eta 0:00:01\r\u001b[K     |█▊                              | 71 kB 7.6 MB/s eta 0:00:01\r\u001b[K     |██                              | 81 kB 8.1 MB/s eta 0:00:01\r\u001b[K     |██▏                             | 92 kB 8.9 MB/s eta 0:00:01\r\u001b[K     |██▍                             | 102 kB 8.2 MB/s eta 0:00:01\r\u001b[K     |██▋                             | 112 kB 8.2 MB/s eta 0:00:01\r\u001b[K     |██▉                             | 122 kB 8.2 MB/s eta 0:00:01\r\u001b[K     |███                             | 133 kB 8.2 MB/s eta 0:00:01\r\u001b[K     |███▍                            | 143 kB 8.2 MB/s eta 0:00:01\r\u001b[K     |███▋                            | 153 kB 8.2 MB/s eta 0:00:01\r\u001b[K     |███▉                            | 163 kB 8.2 MB/s eta 0:00:01\r\u001b[K     |████                            | 174 kB 8.2 MB/s eta 0:00:01\r\u001b[K     |████▎                           | 184 kB 8.2 MB/s eta 0:00:01\r\u001b[K     |████▌                           | 194 kB 8.2 MB/s eta 0:00:01\r\u001b[K     |████▉                           | 204 kB 8.2 MB/s eta 0:00:01\r\u001b[K     |█████                           | 215 kB 8.2 MB/s eta 0:00:01\r\u001b[K     |█████▎                          | 225 kB 8.2 MB/s eta 0:00:01\r\u001b[K     |█████▌                          | 235 kB 8.2 MB/s eta 0:00:01\r\u001b[K     |█████▊                          | 245 kB 8.2 MB/s eta 0:00:01\r\u001b[K     |██████                          | 256 kB 8.2 MB/s eta 0:00:01\r\u001b[K     |██████▏                         | 266 kB 8.2 MB/s eta 0:00:01\r\u001b[K     |██████▌                         | 276 kB 8.2 MB/s eta 0:00:01\r\u001b[K     |██████▊                         | 286 kB 8.2 MB/s eta 0:00:01\r\u001b[K     |███████                         | 296 kB 8.2 MB/s eta 0:00:01\r\u001b[K     |███████▏                        | 307 kB 8.2 MB/s eta 0:00:01\r\u001b[K     |███████▍                        | 317 kB 8.2 MB/s eta 0:00:01\r\u001b[K     |███████▋                        | 327 kB 8.2 MB/s eta 0:00:01\r\u001b[K     |████████                        | 337 kB 8.2 MB/s eta 0:00:01\r\u001b[K     |████████▏                       | 348 kB 8.2 MB/s eta 0:00:01\r\u001b[K     |████████▍                       | 358 kB 8.2 MB/s eta 0:00:01\r\u001b[K     |████████▋                       | 368 kB 8.2 MB/s eta 0:00:01\r\u001b[K     |████████▉                       | 378 kB 8.2 MB/s eta 0:00:01\r\u001b[K     |█████████                       | 389 kB 8.2 MB/s eta 0:00:01\r\u001b[K     |█████████▎                      | 399 kB 8.2 MB/s eta 0:00:01\r\u001b[K     |█████████▋                      | 409 kB 8.2 MB/s eta 0:00:01\r\u001b[K     |█████████▉                      | 419 kB 8.2 MB/s eta 0:00:01\r\u001b[K     |██████████                      | 430 kB 8.2 MB/s eta 0:00:01\r\u001b[K     |██████████▎                     | 440 kB 8.2 MB/s eta 0:00:01\r\u001b[K     |██████████▌                     | 450 kB 8.2 MB/s eta 0:00:01\r\u001b[K     |██████████▊                     | 460 kB 8.2 MB/s eta 0:00:01\r\u001b[K     |███████████                     | 471 kB 8.2 MB/s eta 0:00:01\r\u001b[K     |███████████▎                    | 481 kB 8.2 MB/s eta 0:00:01\r\u001b[K     |███████████▌                    | 491 kB 8.2 MB/s eta 0:00:01\r\u001b[K     |███████████▊                    | 501 kB 8.2 MB/s eta 0:00:01\r\u001b[K     |████████████                    | 512 kB 8.2 MB/s eta 0:00:01\r\u001b[K     |████████████▏                   | 522 kB 8.2 MB/s eta 0:00:01\r\u001b[K     |████████████▍                   | 532 kB 8.2 MB/s eta 0:00:01\r\u001b[K     |████████████▊                   | 542 kB 8.2 MB/s eta 0:00:01\r\u001b[K     |█████████████                   | 552 kB 8.2 MB/s eta 0:00:01\r\u001b[K     |█████████████▏                  | 563 kB 8.2 MB/s eta 0:00:01\r\u001b[K     |█████████████▍                  | 573 kB 8.2 MB/s eta 0:00:01\r\u001b[K     |█████████████▋                  | 583 kB 8.2 MB/s eta 0:00:01\r\u001b[K     |█████████████▉                  | 593 kB 8.2 MB/s eta 0:00:01\r\u001b[K     |██████████████                  | 604 kB 8.2 MB/s eta 0:00:01\r\u001b[K     |██████████████▍                 | 614 kB 8.2 MB/s eta 0:00:01\r\u001b[K     |██████████████▋                 | 624 kB 8.2 MB/s eta 0:00:01\r\u001b[K     |██████████████▉                 | 634 kB 8.2 MB/s eta 0:00:01\r\u001b[K     |███████████████                 | 645 kB 8.2 MB/s eta 0:00:01\r\u001b[K     |███████████████▎                | 655 kB 8.2 MB/s eta 0:00:01\r\u001b[K     |███████████████▌                | 665 kB 8.2 MB/s eta 0:00:01\r\u001b[K     |███████████████▉                | 675 kB 8.2 MB/s eta 0:00:01\r\u001b[K     |████████████████                | 686 kB 8.2 MB/s eta 0:00:01\r\u001b[K     |████████████████▎               | 696 kB 8.2 MB/s eta 0:00:01\r\u001b[K     |████████████████▌               | 706 kB 8.2 MB/s eta 0:00:01\r\u001b[K     |████████████████▊               | 716 kB 8.2 MB/s eta 0:00:01\r\u001b[K     |█████████████████               | 727 kB 8.2 MB/s eta 0:00:01\r\u001b[K     |█████████████████▏              | 737 kB 8.2 MB/s eta 0:00:01\r\u001b[K     |█████████████████▌              | 747 kB 8.2 MB/s eta 0:00:01\r\u001b[K     |█████████████████▊              | 757 kB 8.2 MB/s eta 0:00:01\r\u001b[K     |██████████████████              | 768 kB 8.2 MB/s eta 0:00:01\r\u001b[K     |██████████████████▏             | 778 kB 8.2 MB/s eta 0:00:01\r\u001b[K     |██████████████████▍             | 788 kB 8.2 MB/s eta 0:00:01\r\u001b[K     |██████████████████▋             | 798 kB 8.2 MB/s eta 0:00:01\r\u001b[K     |███████████████████             | 808 kB 8.2 MB/s eta 0:00:01\r\u001b[K     |███████████████████▏            | 819 kB 8.2 MB/s eta 0:00:01\r\u001b[K     |███████████████████▍            | 829 kB 8.2 MB/s eta 0:00:01\r\u001b[K     |███████████████████▋            | 839 kB 8.2 MB/s eta 0:00:01\r\u001b[K     |███████████████████▉            | 849 kB 8.2 MB/s eta 0:00:01\r\u001b[K     |████████████████████            | 860 kB 8.2 MB/s eta 0:00:01\r\u001b[K     |████████████████████▎           | 870 kB 8.2 MB/s eta 0:00:01\r\u001b[K     |████████████████████▋           | 880 kB 8.2 MB/s eta 0:00:01\r\u001b[K     |████████████████████▉           | 890 kB 8.2 MB/s eta 0:00:01\r\u001b[K     |█████████████████████           | 901 kB 8.2 MB/s eta 0:00:01\r\u001b[K     |█████████████████████▎          | 911 kB 8.2 MB/s eta 0:00:01\r\u001b[K     |█████████████████████▌          | 921 kB 8.2 MB/s eta 0:00:01\r\u001b[K     |█████████████████████▊          | 931 kB 8.2 MB/s eta 0:00:01\r\u001b[K     |██████████████████████          | 942 kB 8.2 MB/s eta 0:00:01\r\u001b[K     |██████████████████████▎         | 952 kB 8.2 MB/s eta 0:00:01\r\u001b[K     |██████████████████████▌         | 962 kB 8.2 MB/s eta 0:00:01\r\u001b[K     |██████████████████████▊         | 972 kB 8.2 MB/s eta 0:00:01\r\u001b[K     |███████████████████████         | 983 kB 8.2 MB/s eta 0:00:01\r\u001b[K     |███████████████████████▏        | 993 kB 8.2 MB/s eta 0:00:01\r\u001b[K     |███████████████████████▍        | 1.0 MB 8.2 MB/s eta 0:00:01\r\u001b[K     |███████████████████████▊        | 1.0 MB 8.2 MB/s eta 0:00:01\r\u001b[K     |████████████████████████        | 1.0 MB 8.2 MB/s eta 0:00:01\r\u001b[K     |████████████████████████▏       | 1.0 MB 8.2 MB/s eta 0:00:01\r\u001b[K     |████████████████████████▍       | 1.0 MB 8.2 MB/s eta 0:00:01\r\u001b[K     |████████████████████████▋       | 1.1 MB 8.2 MB/s eta 0:00:01\r\u001b[K     |████████████████████████▉       | 1.1 MB 8.2 MB/s eta 0:00:01\r\u001b[K     |█████████████████████████       | 1.1 MB 8.2 MB/s eta 0:00:01\r\u001b[K     |█████████████████████████▍      | 1.1 MB 8.2 MB/s eta 0:00:01\r\u001b[K     |█████████████████████████▋      | 1.1 MB 8.2 MB/s eta 0:00:01\r\u001b[K     |█████████████████████████▉      | 1.1 MB 8.2 MB/s eta 0:00:01\r\u001b[K     |██████████████████████████      | 1.1 MB 8.2 MB/s eta 0:00:01\r\u001b[K     |██████████████████████████▎     | 1.1 MB 8.2 MB/s eta 0:00:01\r\u001b[K     |██████████████████████████▌     | 1.1 MB 8.2 MB/s eta 0:00:01\r\u001b[K     |██████████████████████████▉     | 1.1 MB 8.2 MB/s eta 0:00:01\r\u001b[K     |███████████████████████████     | 1.2 MB 8.2 MB/s eta 0:00:01\r\u001b[K     |███████████████████████████▎    | 1.2 MB 8.2 MB/s eta 0:00:01\r\u001b[K     |███████████████████████████▌    | 1.2 MB 8.2 MB/s eta 0:00:01\r\u001b[K     |███████████████████████████▊    | 1.2 MB 8.2 MB/s eta 0:00:01\r\u001b[K     |████████████████████████████    | 1.2 MB 8.2 MB/s eta 0:00:01\r\u001b[K     |████████████████████████████▏   | 1.2 MB 8.2 MB/s eta 0:00:01\r\u001b[K     |████████████████████████████▌   | 1.2 MB 8.2 MB/s eta 0:00:01\r\u001b[K     |████████████████████████████▊   | 1.2 MB 8.2 MB/s eta 0:00:01\r\u001b[K     |█████████████████████████████   | 1.2 MB 8.2 MB/s eta 0:00:01\r\u001b[K     |█████████████████████████████▏  | 1.2 MB 8.2 MB/s eta 0:00:01\r\u001b[K     |█████████████████████████████▍  | 1.3 MB 8.2 MB/s eta 0:00:01\r\u001b[K     |█████████████████████████████▋  | 1.3 MB 8.2 MB/s eta 0:00:01\r\u001b[K     |██████████████████████████████  | 1.3 MB 8.2 MB/s eta 0:00:01\r\u001b[K     |██████████████████████████████▏ | 1.3 MB 8.2 MB/s eta 0:00:01\r\u001b[K     |██████████████████████████████▍ | 1.3 MB 8.2 MB/s eta 0:00:01\r\u001b[K     |██████████████████████████████▋ | 1.3 MB 8.2 MB/s eta 0:00:01\r\u001b[K     |██████████████████████████████▉ | 1.3 MB 8.2 MB/s eta 0:00:01\r\u001b[K     |███████████████████████████████ | 1.3 MB 8.2 MB/s eta 0:00:01\r\u001b[K     |███████████████████████████████▎| 1.3 MB 8.2 MB/s eta 0:00:01\r\u001b[K     |███████████████████████████████▋| 1.4 MB 8.2 MB/s eta 0:00:01\r\u001b[K     |███████████████████████████████▉| 1.4 MB 8.2 MB/s eta 0:00:01\r\u001b[K     |████████████████████████████████| 1.4 MB 8.2 MB/s \n",
            "\u001b[?25hRequirement already satisfied: torch>=1.2 in /usr/local/lib/python3.7/dist-packages (from captum==0.2.0) (1.10.0+cu111)\n",
            "Requirement already satisfied: matplotlib in /usr/local/lib/python3.7/dist-packages (from captum==0.2.0) (3.2.2)\n",
            "Requirement already satisfied: numpy in /usr/local/lib/python3.7/dist-packages (from captum==0.2.0) (1.21.5)\n",
            "Requirement already satisfied: typing-extensions in /usr/local/lib/python3.7/dist-packages (from torch>=1.2->captum==0.2.0) (4.1.1)\n",
            "Requirement already satisfied: kiwisolver>=1.0.1 in /usr/local/lib/python3.7/dist-packages (from matplotlib->captum==0.2.0) (1.4.2)\n",
            "Requirement already satisfied: cycler>=0.10 in /usr/local/lib/python3.7/dist-packages (from matplotlib->captum==0.2.0) (0.11.0)\n",
            "Requirement already satisfied: python-dateutil>=2.1 in /usr/local/lib/python3.7/dist-packages (from matplotlib->captum==0.2.0) (2.8.2)\n",
            "Requirement already satisfied: pyparsing!=2.0.4,!=2.1.2,!=2.1.6,>=2.0.1 in /usr/local/lib/python3.7/dist-packages (from matplotlib->captum==0.2.0) (3.0.8)\n",
            "Requirement already satisfied: six>=1.5 in /usr/local/lib/python3.7/dist-packages (from python-dateutil>=2.1->matplotlib->captum==0.2.0) (1.15.0)\n",
            "Installing collected packages: captum\n",
            "Successfully installed captum-0.2.0\n",
            "Collecting python-papi==5.5.1.2\n",
            "  Downloading python_papi-5.5.1.2.tar.gz (8.8 MB)\n",
            "\u001b[K     |████████████████████████████████| 8.8 MB 10.4 MB/s \n",
            "\u001b[?25hRequirement already satisfied: cffi>=1.0.0 in /usr/local/lib/python3.7/dist-packages (from python-papi==5.5.1.2) (1.15.0)\n",
            "Requirement already satisfied: pycparser in /usr/local/lib/python3.7/dist-packages (from cffi>=1.0.0->python-papi==5.5.1.2) (2.21)\n",
            "Building wheels for collected packages: python-papi\n",
            "  Building wheel for python-papi (setup.py) ... \u001b[?25l\u001b[?25hdone\n",
            "  Created wheel for python-papi: filename=python_papi-5.5.1.2-cp37-cp37m-linux_x86_64.whl size=861998 sha256=0d9ec339f03c6b06eb25493ccd13ebbcb7288182782795af7e0cd72d09ce676f\n",
            "  Stored in directory: /root/.cache/pip/wheels/02/16/ab/da4dc99a38cd930d78dd4c5e07db6c618a192c38faf1a37cfd\n",
            "Successfully built python-papi\n",
            "Installing collected packages: python-papi\n",
            "Successfully installed python-papi-5.5.1.2\n",
            "Collecting lime==0.2.0.0\n",
            "  Downloading lime-0.2.0.0.tar.gz (274 kB)\n",
            "\u001b[K     |████████████████████████████████| 274 kB 11.2 MB/s \n",
            "\u001b[?25hRequirement already satisfied: matplotlib in /usr/local/lib/python3.7/dist-packages (from lime==0.2.0.0) (3.2.2)\n",
            "Requirement already satisfied: numpy in /usr/local/lib/python3.7/dist-packages (from lime==0.2.0.0) (1.21.5)\n",
            "Requirement already satisfied: scipy in /usr/local/lib/python3.7/dist-packages (from lime==0.2.0.0) (1.4.1)\n",
            "Requirement already satisfied: tqdm in /usr/local/lib/python3.7/dist-packages (from lime==0.2.0.0) (4.64.0)\n",
            "Collecting pillow==5.4.1\n",
            "  Downloading Pillow-5.4.1-cp37-cp37m-manylinux1_x86_64.whl (2.0 MB)\n",
            "\u001b[K     |████████████████████████████████| 2.0 MB 42.9 MB/s \n",
            "\u001b[?25hRequirement already satisfied: scikit-learn>=0.18 in /usr/local/lib/python3.7/dist-packages (from lime==0.2.0.0) (1.0.2)\n",
            "Requirement already satisfied: scikit-image>=0.12 in /usr/local/lib/python3.7/dist-packages (from lime==0.2.0.0) (0.18.3)\n",
            "Requirement already satisfied: tifffile>=2019.7.26 in /usr/local/lib/python3.7/dist-packages (from scikit-image>=0.12->lime==0.2.0.0) (2021.11.2)\n",
            "Requirement already satisfied: networkx>=2.0 in /usr/local/lib/python3.7/dist-packages (from scikit-image>=0.12->lime==0.2.0.0) (2.6.3)\n",
            "Requirement already satisfied: PyWavelets>=1.1.1 in /usr/local/lib/python3.7/dist-packages (from scikit-image>=0.12->lime==0.2.0.0) (1.3.0)\n",
            "Requirement already satisfied: imageio>=2.3.0 in /usr/local/lib/python3.7/dist-packages (from scikit-image>=0.12->lime==0.2.0.0) (2.4.1)\n",
            "Requirement already satisfied: pyparsing!=2.0.4,!=2.1.2,!=2.1.6,>=2.0.1 in /usr/local/lib/python3.7/dist-packages (from matplotlib->lime==0.2.0.0) (3.0.8)\n",
            "Requirement already satisfied: cycler>=0.10 in /usr/local/lib/python3.7/dist-packages (from matplotlib->lime==0.2.0.0) (0.11.0)\n",
            "Requirement already satisfied: kiwisolver>=1.0.1 in /usr/local/lib/python3.7/dist-packages (from matplotlib->lime==0.2.0.0) (1.4.2)\n",
            "Requirement already satisfied: python-dateutil>=2.1 in /usr/local/lib/python3.7/dist-packages (from matplotlib->lime==0.2.0.0) (2.8.2)\n",
            "Requirement already satisfied: typing-extensions in /usr/local/lib/python3.7/dist-packages (from kiwisolver>=1.0.1->matplotlib->lime==0.2.0.0) (4.1.1)\n",
            "Requirement already satisfied: six>=1.5 in /usr/local/lib/python3.7/dist-packages (from python-dateutil>=2.1->matplotlib->lime==0.2.0.0) (1.15.0)\n",
            "Requirement already satisfied: joblib>=0.11 in /usr/local/lib/python3.7/dist-packages (from scikit-learn>=0.18->lime==0.2.0.0) (1.1.0)\n",
            "Requirement already satisfied: threadpoolctl>=2.0.0 in /usr/local/lib/python3.7/dist-packages (from scikit-learn>=0.18->lime==0.2.0.0) (3.1.0)\n",
            "Building wheels for collected packages: lime\n",
            "  Building wheel for lime (setup.py) ... \u001b[?25l\u001b[?25hdone\n",
            "  Created wheel for lime: filename=lime-0.2.0.0-py3-none-any.whl size=284191 sha256=a10e7301bab045c83492ba8a8b4695eb2584b496960fe4426c763bbdff8a00de\n",
            "  Stored in directory: /root/.cache/pip/wheels/05/1a/3f/6b78b5cf3a5b8ed95a487c2539755c9e97907e53594dfe8e35\n",
            "Successfully built lime\n",
            "Installing collected packages: pillow, lime\n",
            "  Attempting uninstall: pillow\n",
            "    Found existing installation: Pillow 7.1.2\n",
            "    Uninstalling Pillow-7.1.2:\n",
            "      Successfully uninstalled Pillow-7.1.2\n",
            "\u001b[31mERROR: pip's dependency resolver does not currently take into account all the packages that are installed. This behaviour is the source of the following dependency conflicts.\n",
            "bokeh 2.3.3 requires pillow>=7.1.0, but you have pillow 5.4.1 which is incompatible.\n",
            "albumentations 0.1.12 requires imgaug<0.2.7,>=0.2.5, but you have imgaug 0.2.9 which is incompatible.\u001b[0m\n",
            "Successfully installed lime-0.2.0.0 pillow-5.4.1\n"
          ]
        },
        {
          "output_type": "display_data",
          "data": {
            "application/vnd.colab-display-data+json": {
              "pip_warning": {
                "packages": [
                  "PIL"
                ]
              }
            }
          },
          "metadata": {}
        }
      ]
    },
    {
      "cell_type": "code",
      "source": [
        "!pip install torch==1.4.0\n",
        "!pip install transformers==3.5.0\n",
        "!pip install wandb==0.9.4\n",
        "!pip install scikit-learn==0.23.1\n",
        "!pip install scipy==1.5.0\n",
        "!pip install ekphrasis==0.5.1\n",
        "!pip install emoji"
      ],
      "metadata": {
        "colab": {
          "base_uri": "https://localhost:8080/"
        },
        "id": "s7VmwDesJ_Q8",
        "outputId": "208ac957-626e-46f8-a8e5-03f12b66af64"
      },
      "execution_count": 3,
      "outputs": [
        {
          "output_type": "stream",
          "name": "stdout",
          "text": [
            "Collecting torch==1.4.0\n",
            "  Downloading torch-1.4.0-cp37-cp37m-manylinux1_x86_64.whl (753.4 MB)\n",
            "\u001b[K     |████████████████████████████████| 753.4 MB 6.1 kB/s \n",
            "\u001b[?25hInstalling collected packages: torch\n",
            "  Attempting uninstall: torch\n",
            "    Found existing installation: torch 1.10.0+cu111\n",
            "    Uninstalling torch-1.10.0+cu111:\n",
            "      Successfully uninstalled torch-1.10.0+cu111\n",
            "\u001b[31mERROR: pip's dependency resolver does not currently take into account all the packages that are installed. This behaviour is the source of the following dependency conflicts.\n",
            "torchvision 0.11.1+cu111 requires torch==1.10.0, but you have torch 1.4.0 which is incompatible.\n",
            "torchtext 0.11.0 requires torch==1.10.0, but you have torch 1.4.0 which is incompatible.\n",
            "torchaudio 0.10.0+cu111 requires torch==1.10.0, but you have torch 1.4.0 which is incompatible.\u001b[0m\n",
            "Successfully installed torch-1.4.0\n",
            "Collecting transformers==3.5.0\n",
            "  Downloading transformers-3.5.0-py3-none-any.whl (1.3 MB)\n",
            "\u001b[K     |████████████████████████████████| 1.3 MB 8.3 MB/s \n",
            "\u001b[?25hRequirement already satisfied: packaging in /usr/local/lib/python3.7/dist-packages (from transformers==3.5.0) (21.3)\n",
            "Collecting sentencepiece==0.1.91\n",
            "  Downloading sentencepiece-0.1.91-cp37-cp37m-manylinux1_x86_64.whl (1.1 MB)\n",
            "\u001b[K     |████████████████████████████████| 1.1 MB 50.6 MB/s \n",
            "\u001b[?25hRequirement already satisfied: requests in /usr/local/lib/python3.7/dist-packages (from transformers==3.5.0) (2.23.0)\n",
            "Requirement already satisfied: numpy in /usr/local/lib/python3.7/dist-packages (from transformers==3.5.0) (1.21.5)\n",
            "Collecting sacremoses\n",
            "  Downloading sacremoses-0.0.49-py3-none-any.whl (895 kB)\n",
            "\u001b[K     |████████████████████████████████| 895 kB 52.7 MB/s \n",
            "\u001b[?25hRequirement already satisfied: regex!=2019.12.17 in /usr/local/lib/python3.7/dist-packages (from transformers==3.5.0) (2019.12.20)\n",
            "Collecting tokenizers==0.9.3\n",
            "  Downloading tokenizers-0.9.3-cp37-cp37m-manylinux1_x86_64.whl (2.9 MB)\n",
            "\u001b[K     |████████████████████████████████| 2.9 MB 34.9 MB/s \n",
            "\u001b[?25hRequirement already satisfied: tqdm>=4.27 in /usr/local/lib/python3.7/dist-packages (from transformers==3.5.0) (4.64.0)\n",
            "Requirement already satisfied: protobuf in /usr/local/lib/python3.7/dist-packages (from transformers==3.5.0) (3.17.3)\n",
            "Requirement already satisfied: filelock in /usr/local/lib/python3.7/dist-packages (from transformers==3.5.0) (3.6.0)\n",
            "Requirement already satisfied: pyparsing!=3.0.5,>=2.0.2 in /usr/local/lib/python3.7/dist-packages (from packaging->transformers==3.5.0) (3.0.8)\n",
            "Requirement already satisfied: six>=1.9 in /usr/local/lib/python3.7/dist-packages (from protobuf->transformers==3.5.0) (1.15.0)\n",
            "Requirement already satisfied: chardet<4,>=3.0.2 in /usr/local/lib/python3.7/dist-packages (from requests->transformers==3.5.0) (3.0.4)\n",
            "Requirement already satisfied: idna<3,>=2.5 in /usr/local/lib/python3.7/dist-packages (from requests->transformers==3.5.0) (2.10)\n",
            "Requirement already satisfied: certifi>=2017.4.17 in /usr/local/lib/python3.7/dist-packages (from requests->transformers==3.5.0) (2021.10.8)\n",
            "Requirement already satisfied: urllib3!=1.25.0,!=1.25.1,<1.26,>=1.21.1 in /usr/local/lib/python3.7/dist-packages (from requests->transformers==3.5.0) (1.24.3)\n",
            "Requirement already satisfied: click in /usr/local/lib/python3.7/dist-packages (from sacremoses->transformers==3.5.0) (7.1.2)\n",
            "Requirement already satisfied: joblib in /usr/local/lib/python3.7/dist-packages (from sacremoses->transformers==3.5.0) (1.1.0)\n",
            "Installing collected packages: tokenizers, sentencepiece, sacremoses, transformers\n",
            "Successfully installed sacremoses-0.0.49 sentencepiece-0.1.91 tokenizers-0.9.3 transformers-3.5.0\n",
            "Collecting wandb==0.9.4\n",
            "  Downloading wandb-0.9.4-py2.py3-none-any.whl (1.4 MB)\n",
            "\u001b[K     |████████████████████████████████| 1.4 MB 9.9 MB/s \n",
            "\u001b[?25hCollecting GitPython>=1.0.0\n",
            "  Downloading GitPython-3.1.27-py3-none-any.whl (181 kB)\n",
            "\u001b[K     |████████████████████████████████| 181 kB 59.4 MB/s \n",
            "\u001b[?25hRequirement already satisfied: nvidia-ml-py3>=7.352.0 in /usr/local/lib/python3.7/dist-packages (from wandb==0.9.4) (7.352.0)\n",
            "Collecting sentry-sdk>=0.4.0\n",
            "  Downloading sentry_sdk-1.5.10-py2.py3-none-any.whl (144 kB)\n",
            "\u001b[K     |████████████████████████████████| 144 kB 54.1 MB/s \n",
            "\u001b[?25hCollecting configparser>=3.8.1\n",
            "  Downloading configparser-5.2.0-py3-none-any.whl (19 kB)\n",
            "Requirement already satisfied: python-dateutil>=2.6.1 in /usr/local/lib/python3.7/dist-packages (from wandb==0.9.4) (2.8.2)\n",
            "Requirement already satisfied: PyYAML>=3.10 in /usr/local/lib/python3.7/dist-packages (from wandb==0.9.4) (3.13)\n",
            "Requirement already satisfied: requests>=2.0.0 in /usr/local/lib/python3.7/dist-packages (from wandb==0.9.4) (2.23.0)\n",
            "Collecting docker-pycreds>=0.4.0\n",
            "  Downloading docker_pycreds-0.4.0-py2.py3-none-any.whl (9.0 kB)\n",
            "Collecting subprocess32>=3.5.3\n",
            "  Downloading subprocess32-3.5.4.tar.gz (97 kB)\n",
            "\u001b[K     |████████████████████████████████| 97 kB 5.6 MB/s \n",
            "\u001b[?25hRequirement already satisfied: Click>=7.0 in /usr/local/lib/python3.7/dist-packages (from wandb==0.9.4) (7.1.2)\n",
            "Collecting gql==0.2.0\n",
            "  Downloading gql-0.2.0.tar.gz (18 kB)\n",
            "Requirement already satisfied: six>=1.10.0 in /usr/local/lib/python3.7/dist-packages (from wandb==0.9.4) (1.15.0)\n",
            "Collecting shortuuid>=0.5.0\n",
            "  Downloading shortuuid-1.0.8-py3-none-any.whl (9.5 kB)\n",
            "Requirement already satisfied: psutil>=5.0.0 in /usr/local/lib/python3.7/dist-packages (from wandb==0.9.4) (5.4.8)\n",
            "Collecting watchdog>=0.8.3\n",
            "  Downloading watchdog-2.1.7-py3-none-manylinux2014_x86_64.whl (76 kB)\n",
            "\u001b[K     |████████████████████████████████| 76 kB 4.7 MB/s \n",
            "\u001b[?25hCollecting graphql-core<2,>=0.5.0\n",
            "  Downloading graphql-core-1.1.tar.gz (70 kB)\n",
            "\u001b[K     |████████████████████████████████| 70 kB 7.4 MB/s \n",
            "\u001b[?25hRequirement already satisfied: promise<3,>=2.0 in /usr/local/lib/python3.7/dist-packages (from gql==0.2.0->wandb==0.9.4) (2.3)\n",
            "Collecting gitdb<5,>=4.0.1\n",
            "  Downloading gitdb-4.0.9-py3-none-any.whl (63 kB)\n",
            "\u001b[K     |████████████████████████████████| 63 kB 1.4 MB/s \n",
            "\u001b[?25hRequirement already satisfied: typing-extensions>=3.7.4.3 in /usr/local/lib/python3.7/dist-packages (from GitPython>=1.0.0->wandb==0.9.4) (4.1.1)\n",
            "Collecting smmap<6,>=3.0.1\n",
            "  Downloading smmap-5.0.0-py3-none-any.whl (24 kB)\n",
            "Requirement already satisfied: urllib3!=1.25.0,!=1.25.1,<1.26,>=1.21.1 in /usr/local/lib/python3.7/dist-packages (from requests>=2.0.0->wandb==0.9.4) (1.24.3)\n",
            "Requirement already satisfied: idna<3,>=2.5 in /usr/local/lib/python3.7/dist-packages (from requests>=2.0.0->wandb==0.9.4) (2.10)\n",
            "Requirement already satisfied: certifi>=2017.4.17 in /usr/local/lib/python3.7/dist-packages (from requests>=2.0.0->wandb==0.9.4) (2021.10.8)\n",
            "Requirement already satisfied: chardet<4,>=3.0.2 in /usr/local/lib/python3.7/dist-packages (from requests>=2.0.0->wandb==0.9.4) (3.0.4)\n",
            "Building wheels for collected packages: gql, graphql-core, subprocess32\n",
            "  Building wheel for gql (setup.py) ... \u001b[?25l\u001b[?25hdone\n",
            "  Created wheel for gql: filename=gql-0.2.0-py3-none-any.whl size=7638 sha256=1c679e21f8b64f1d5b1d24a23a1ad1ccc79d2de13d258fec729da9b7a57df820\n",
            "  Stored in directory: /root/.cache/pip/wheels/b6/9a/56/5456fd32264a8fc53eefcb2f74e24e99a7ef4eb40a9af5c905\n",
            "  Building wheel for graphql-core (setup.py) ... \u001b[?25l\u001b[?25hdone\n",
            "  Created wheel for graphql-core: filename=graphql_core-1.1-py3-none-any.whl size=104649 sha256=50971c14ba2a3d59ae7c95bb7adb890a179c5d3a993116e43da7fad0eb2b7826\n",
            "  Stored in directory: /root/.cache/pip/wheels/6b/fd/8c/a20dd591c1a554070cc33fb58042867e6ac1c85395abe2e57a\n",
            "  Building wheel for subprocess32 (setup.py) ... \u001b[?25l\u001b[?25hdone\n",
            "  Created wheel for subprocess32: filename=subprocess32-3.5.4-py3-none-any.whl size=6502 sha256=fad6cd6aa1523766a9470d048d151d412a0e1425ca1064d071715aebbb0fbee8\n",
            "  Stored in directory: /root/.cache/pip/wheels/50/ca/fa/8fca8d246e64f19488d07567547ddec8eb084e8c0d7a59226a\n",
            "Successfully built gql graphql-core subprocess32\n",
            "Installing collected packages: smmap, graphql-core, gitdb, watchdog, subprocess32, shortuuid, sentry-sdk, gql, GitPython, docker-pycreds, configparser, wandb\n",
            "Successfully installed GitPython-3.1.27 configparser-5.2.0 docker-pycreds-0.4.0 gitdb-4.0.9 gql-0.2.0 graphql-core-1.1 sentry-sdk-1.5.10 shortuuid-1.0.8 smmap-5.0.0 subprocess32-3.5.4 wandb-0.9.4 watchdog-2.1.7\n",
            "Collecting scikit-learn==0.23.1\n",
            "  Downloading scikit_learn-0.23.1-cp37-cp37m-manylinux1_x86_64.whl (6.8 MB)\n",
            "\u001b[K     |████████████████████████████████| 6.8 MB 8.0 MB/s \n",
            "\u001b[?25hRequirement already satisfied: joblib>=0.11 in /usr/local/lib/python3.7/dist-packages (from scikit-learn==0.23.1) (1.1.0)\n",
            "Requirement already satisfied: numpy>=1.13.3 in /usr/local/lib/python3.7/dist-packages (from scikit-learn==0.23.1) (1.21.5)\n",
            "Requirement already satisfied: threadpoolctl>=2.0.0 in /usr/local/lib/python3.7/dist-packages (from scikit-learn==0.23.1) (3.1.0)\n",
            "Requirement already satisfied: scipy>=0.19.1 in /usr/local/lib/python3.7/dist-packages (from scikit-learn==0.23.1) (1.4.1)\n",
            "Installing collected packages: scikit-learn\n",
            "  Attempting uninstall: scikit-learn\n",
            "    Found existing installation: scikit-learn 1.0.2\n",
            "    Uninstalling scikit-learn-1.0.2:\n",
            "      Successfully uninstalled scikit-learn-1.0.2\n",
            "\u001b[31mERROR: pip's dependency resolver does not currently take into account all the packages that are installed. This behaviour is the source of the following dependency conflicts.\n",
            "yellowbrick 1.4 requires scikit-learn>=1.0.0, but you have scikit-learn 0.23.1 which is incompatible.\n",
            "imbalanced-learn 0.8.1 requires scikit-learn>=0.24, but you have scikit-learn 0.23.1 which is incompatible.\u001b[0m\n",
            "Successfully installed scikit-learn-0.23.1\n",
            "Collecting scipy==1.5.0\n",
            "  Downloading scipy-1.5.0-cp37-cp37m-manylinux1_x86_64.whl (25.9 MB)\n",
            "\u001b[K     |████████████████████████████████| 25.9 MB 1.4 MB/s \n",
            "\u001b[?25hRequirement already satisfied: numpy>=1.14.5 in /usr/local/lib/python3.7/dist-packages (from scipy==1.5.0) (1.21.5)\n",
            "Installing collected packages: scipy\n",
            "  Attempting uninstall: scipy\n",
            "    Found existing installation: scipy 1.4.1\n",
            "    Uninstalling scipy-1.4.1:\n",
            "      Successfully uninstalled scipy-1.4.1\n",
            "\u001b[31mERROR: pip's dependency resolver does not currently take into account all the packages that are installed. This behaviour is the source of the following dependency conflicts.\n",
            "yellowbrick 1.4 requires scikit-learn>=1.0.0, but you have scikit-learn 0.23.1 which is incompatible.\n",
            "imbalanced-learn 0.8.1 requires scikit-learn>=0.24, but you have scikit-learn 0.23.1 which is incompatible.\n",
            "albumentations 0.1.12 requires imgaug<0.2.7,>=0.2.5, but you have imgaug 0.2.9 which is incompatible.\u001b[0m\n",
            "Successfully installed scipy-1.5.0\n",
            "Collecting ekphrasis==0.5.1\n",
            "  Downloading ekphrasis-0.5.1.tar.gz (80 kB)\n",
            "\u001b[K     |████████████████████████████████| 80 kB 4.4 MB/s \n",
            "\u001b[?25hRequirement already satisfied: termcolor in /usr/local/lib/python3.7/dist-packages (from ekphrasis==0.5.1) (1.1.0)\n",
            "Requirement already satisfied: tqdm in /usr/local/lib/python3.7/dist-packages (from ekphrasis==0.5.1) (4.64.0)\n",
            "Collecting colorama\n",
            "  Downloading colorama-0.4.4-py2.py3-none-any.whl (16 kB)\n",
            "Collecting ujson\n",
            "  Downloading ujson-5.2.0-cp37-cp37m-manylinux_2_17_x86_64.manylinux2014_x86_64.whl (45 kB)\n",
            "\u001b[K     |████████████████████████████████| 45 kB 2.3 MB/s \n",
            "\u001b[?25hRequirement already satisfied: matplotlib in /usr/local/lib/python3.7/dist-packages (from ekphrasis==0.5.1) (3.2.2)\n",
            "Requirement already satisfied: nltk in /usr/local/lib/python3.7/dist-packages (from ekphrasis==0.5.1) (3.2.5)\n",
            "Collecting ftfy\n",
            "  Downloading ftfy-6.1.1-py3-none-any.whl (53 kB)\n",
            "\u001b[K     |████████████████████████████████| 53 kB 1.3 MB/s \n",
            "\u001b[?25hRequirement already satisfied: numpy in /usr/local/lib/python3.7/dist-packages (from ekphrasis==0.5.1) (1.21.5)\n",
            "Requirement already satisfied: wcwidth>=0.2.5 in /usr/local/lib/python3.7/dist-packages (from ftfy->ekphrasis==0.5.1) (0.2.5)\n",
            "Requirement already satisfied: pyparsing!=2.0.4,!=2.1.2,!=2.1.6,>=2.0.1 in /usr/local/lib/python3.7/dist-packages (from matplotlib->ekphrasis==0.5.1) (3.0.8)\n",
            "Requirement already satisfied: kiwisolver>=1.0.1 in /usr/local/lib/python3.7/dist-packages (from matplotlib->ekphrasis==0.5.1) (1.4.2)\n",
            "Requirement already satisfied: python-dateutil>=2.1 in /usr/local/lib/python3.7/dist-packages (from matplotlib->ekphrasis==0.5.1) (2.8.2)\n",
            "Requirement already satisfied: cycler>=0.10 in /usr/local/lib/python3.7/dist-packages (from matplotlib->ekphrasis==0.5.1) (0.11.0)\n",
            "Requirement already satisfied: typing-extensions in /usr/local/lib/python3.7/dist-packages (from kiwisolver>=1.0.1->matplotlib->ekphrasis==0.5.1) (4.1.1)\n",
            "Requirement already satisfied: six>=1.5 in /usr/local/lib/python3.7/dist-packages (from python-dateutil>=2.1->matplotlib->ekphrasis==0.5.1) (1.15.0)\n",
            "Building wheels for collected packages: ekphrasis\n",
            "  Building wheel for ekphrasis (setup.py) ... \u001b[?25l\u001b[?25hdone\n",
            "  Created wheel for ekphrasis: filename=ekphrasis-0.5.1-py3-none-any.whl size=82842 sha256=3f758f3a693f01c3115dc634f8086d218934e390824eec87820eb42c307b543d\n",
            "  Stored in directory: /root/.cache/pip/wheels/f7/ec/0d/12659e32faf780546945d0120f2c8410eb3efb7426731da88f\n",
            "Successfully built ekphrasis\n",
            "Installing collected packages: ujson, ftfy, colorama, ekphrasis\n",
            "Successfully installed colorama-0.4.4 ekphrasis-0.5.1 ftfy-6.1.1 ujson-5.2.0\n",
            "Collecting emoji\n",
            "  Downloading emoji-1.7.0.tar.gz (175 kB)\n",
            "\u001b[K     |████████████████████████████████| 175 kB 10.8 MB/s \n",
            "\u001b[?25hBuilding wheels for collected packages: emoji\n",
            "  Building wheel for emoji (setup.py) ... \u001b[?25l\u001b[?25hdone\n",
            "  Created wheel for emoji: filename=emoji-1.7.0-py3-none-any.whl size=171046 sha256=95fc9810335a491e2092c83023c8a512c47d9c89ab681276fb1940364ddd2826\n",
            "  Stored in directory: /root/.cache/pip/wheels/8a/4e/b6/57b01db010d17ef6ea9b40300af725ef3e210cb1acfb7ac8b6\n",
            "Successfully built emoji\n",
            "Installing collected packages: emoji\n",
            "Successfully installed emoji-1.7.0\n"
          ]
        }
      ]
    },
    {
      "cell_type": "code",
      "source": [
        "\"\"\"Script to serialize the saliency scored produced by the Shapley Values\n",
        "Sampling\"\"\"\n",
        "import argparse\n",
        "import json\n",
        "import os\n",
        "import random\n",
        "from argparse import Namespace\n",
        "from collections import defaultdict\n",
        "from functools import partial\n",
        "\n",
        "import numpy as np\n",
        "import torch\n",
        "from captum.attr import ShapleyValueSampling\n",
        "from pypapi import events, papi_high as high\n",
        "from torch.utils.data import DataLoader\n",
        "from tqdm import tqdm\n",
        "from transformers import BertConfig, BertForSequenceClassification, \\\n",
        "    BertTokenizer, AutoModel,AutoTokenizer\n",
        "from transformers.modeling_auto import AutoModelForSequenceClassification\n",
        "\n",
        "# from data_loader import IMDBDataset, NLIDataset, TwitterDataset, \\\n",
        "#     get_collate_fn\n",
        "# from model_builder import CNN_MODEL, LSTM_MODEL"
      ],
      "metadata": {
        "id": "ar-fjxvZBlvi"
      },
      "execution_count": 6,
      "outputs": []
    },
    {
      "cell_type": "code",
      "source": [
        "saliency_path = \"/contentgdrive/MyDrive/NLP Stance Detection/xai_atanasova/WTWT\"\n",
        "model_path = \"/content/gdrive/MyDrive/NLP Stance Detection/Code_Kaushal/saves/wtwt_CI_ESRX_target/model.pt\""
      ],
      "metadata": {
        "id": "0PBvsH26FmLg"
      },
      "execution_count": 4,
      "outputs": []
    },
    {
      "cell_type": "code",
      "source": [
        "checkpoint = torch.load(model_path,\n",
        "                            map_location=lambda storage, loc: storage)"
      ],
      "metadata": {
        "id": "ZtGp5_nWTYKg"
      },
      "execution_count": 7,
      "outputs": []
    },
    {
      "cell_type": "code",
      "source": [
        "args_model = {\"seed\": 4214, \"target_merger\": \"CI_ESRX\", \n",
        " \"cross_valid_num\": 4, \"batch_size\": 16, \"lr\": 1e-05, \"n_epochs\": 2, \"dropout\": 0.5, \"mlp_hidden\": 16, \"device\": \"cuda\", \n",
        " \"bert_type\": \"vinai/bertweet-base\", \"dataset_name\": \"wtwt\"}"
      ],
      "metadata": {
        "id": "WYTetT4q37mt"
      },
      "execution_count": 12,
      "outputs": []
    },
    {
      "cell_type": "code",
      "source": [
        "from argparse import Namespace\n"
      ],
      "metadata": {
        "id": "4HnPY7tk9HmE"
      },
      "execution_count": 13,
      "outputs": []
    },
    {
      "cell_type": "code",
      "source": [
        "model_args = Namespace(**args_model)"
      ],
      "metadata": {
        "id": "wH8wAfuZTb_r"
      },
      "execution_count": 16,
      "outputs": []
    },
    {
      "cell_type": "code",
      "source": [
        "!python /content/gdrive/MyDrive/NLP\\ Stance\\ Detection/xai_atanasova/saliency_gen/interpret_shap_mod.py "
      ],
      "metadata": {
        "id": "lSE4n17OLuV3"
      },
      "execution_count": null,
      "outputs": []
    },
    {
      "cell_type": "code",
      "source": [
        ""
      ],
      "metadata": {
        "id": "sz3joMiIM1DI"
      },
      "execution_count": null,
      "outputs": []
    }
  ]
}